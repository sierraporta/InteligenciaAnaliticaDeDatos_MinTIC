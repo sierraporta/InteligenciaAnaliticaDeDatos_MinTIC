{
 "cells": [
  {
   "cell_type": "markdown",
   "id": "bb9337eb-66b4-4e72-bb7a-da380eb454ab",
   "metadata": {},
   "source": [
    "# Práctica del Módulo 1.\n",
    "\n",
    "Estimados todos....! Sean todos bienvenidos a la actividad práctica del Módulo 1...\n",
    "El objetivo de la dinámica es:\n",
    "\n",
    "- Escoger un conjunto de datos, describirlo, contextualizarlo, definirlo.... (Por favor decir de dónde obtienen los datos...)\n",
    "- Usar algunas de la técnicas que aprendimos esta semana para ordenar, clasificar, arreglar datos y hacer un análisis exploratorio tanto estadístico básico como visual de los datos..\n",
    "- Enfocarse en alguna(s) variable(s) de interés y hacer una storytelling (en una diapositiva de power point o canva) para comunicar y socializar el ejercicio.\n",
    "- Una pequeña presentación de algunos minutos que describa el trabajo que hicieron y describa la storytelling que hicieron.\n",
    "\n",
    "Estoy acá para cualquier duda, inquietud, problema, etc.... El trabajo será independiente o en grupo, podemos usar el chat para comunicarlnos...!"
   ]
  },
  {
   "cell_type": "code",
   "execution_count": 15,
   "id": "1bd20214-1809-423d-93c2-6a60b9b990a3",
   "metadata": {},
   "outputs": [],
   "source": [
    "import pandas as pd"
   ]
  },
  {
   "cell_type": "code",
   "execution_count": 19,
   "id": "101fd03d-4ab0-4bed-a5a1-d2594a7d61f2",
   "metadata": {},
   "outputs": [],
   "source": [
    "algo=pd.read_csv(\"cities_csv1-Copy1.csv\",on_bad_lines=\"skip\")"
   ]
  },
  {
   "cell_type": "code",
   "execution_count": 20,
   "id": "ec64e415-424e-4438-914a-b460af8e4c7f",
   "metadata": {},
   "outputs": [],
   "source": [
    "algo=algo[[\"Date\",\"AZ-Phoenix\",\"CA-Los Angeles\",\"CA-San Diego\"]]"
   ]
  },
  {
   "cell_type": "code",
   "execution_count": 22,
   "id": "7270be6e-4403-4c8c-ba3b-9e4578f9e367",
   "metadata": {},
   "outputs": [],
   "source": [
    "algo=algo[[\"AZ-Phoenix\",\"CA-Los Angeles\",\"CA-San Diego\",\"Date\"]]"
   ]
  },
  {
   "cell_type": "code",
   "execution_count": 23,
   "id": "ea33ee2c-2023-46ef-acb5-8acdb1727ea4",
   "metadata": {},
   "outputs": [
    {
     "data": {
      "text/html": [
       "<div>\n",
       "<style scoped>\n",
       "    .dataframe tbody tr th:only-of-type {\n",
       "        vertical-align: middle;\n",
       "    }\n",
       "\n",
       "    .dataframe tbody tr th {\n",
       "        vertical-align: top;\n",
       "    }\n",
       "\n",
       "    .dataframe thead th {\n",
       "        text-align: right;\n",
       "    }\n",
       "</style>\n",
       "<table border=\"1\" class=\"dataframe\">\n",
       "  <thead>\n",
       "    <tr style=\"text-align: right;\">\n",
       "      <th></th>\n",
       "      <th>AZ-Phoenix</th>\n",
       "      <th>CA-Los Angeles</th>\n",
       "      <th>CA-San Diego</th>\n",
       "      <th>Date</th>\n",
       "    </tr>\n",
       "  </thead>\n",
       "  <tbody>\n",
       "    <tr>\n",
       "      <th>0</th>\n",
       "      <td>NaN</td>\n",
       "      <td>59.33</td>\n",
       "      <td>54.67</td>\n",
       "      <td>1987-01-01</td>\n",
       "    </tr>\n",
       "    <tr>\n",
       "      <th>1</th>\n",
       "      <td>NaN</td>\n",
       "      <td>59.65</td>\n",
       "      <td>54.89</td>\n",
       "      <td>1987-02-01</td>\n",
       "    </tr>\n",
       "    <tr>\n",
       "      <th>2</th>\n",
       "      <td>NaN</td>\n",
       "      <td>59.99</td>\n",
       "      <td>55.16</td>\n",
       "      <td>1987-03-01</td>\n",
       "    </tr>\n",
       "    <tr>\n",
       "      <th>3</th>\n",
       "      <td>NaN</td>\n",
       "      <td>60.81</td>\n",
       "      <td>55.85</td>\n",
       "      <td>1987-04-01</td>\n",
       "    </tr>\n",
       "    <tr>\n",
       "      <th>4</th>\n",
       "      <td>NaN</td>\n",
       "      <td>61.67</td>\n",
       "      <td>56.35</td>\n",
       "      <td>1987-05-01</td>\n",
       "    </tr>\n",
       "    <tr>\n",
       "      <th>...</th>\n",
       "      <td>...</td>\n",
       "      <td>...</td>\n",
       "      <td>...</td>\n",
       "      <td>...</td>\n",
       "    </tr>\n",
       "    <tr>\n",
       "      <th>342</th>\n",
       "      <td>154.82</td>\n",
       "      <td>238.27</td>\n",
       "      <td>215.22</td>\n",
       "      <td>2015-08-01</td>\n",
       "    </tr>\n",
       "    <tr>\n",
       "      <th>343</th>\n",
       "      <td>155.15</td>\n",
       "      <td>238.68</td>\n",
       "      <td>216.37</td>\n",
       "      <td>2015-09-01</td>\n",
       "    </tr>\n",
       "    <tr>\n",
       "      <th>344</th>\n",
       "      <td>155.92</td>\n",
       "      <td>238.91</td>\n",
       "      <td>215.62</td>\n",
       "      <td>2015-10-01</td>\n",
       "    </tr>\n",
       "    <tr>\n",
       "      <th>345</th>\n",
       "      <td>156.42</td>\n",
       "      <td>239.67</td>\n",
       "      <td>216.54</td>\n",
       "      <td>2015-11-01</td>\n",
       "    </tr>\n",
       "    <tr>\n",
       "      <th>346</th>\n",
       "      <td>157.22</td>\n",
       "      <td>240.54</td>\n",
       "      <td>218.00</td>\n",
       "      <td>2015-12-01</td>\n",
       "    </tr>\n",
       "  </tbody>\n",
       "</table>\n",
       "<p>347 rows × 4 columns</p>\n",
       "</div>"
      ],
      "text/plain": [
       "     AZ-Phoenix  CA-Los Angeles  CA-San Diego        Date\n",
       "0           NaN           59.33         54.67  1987-01-01\n",
       "1           NaN           59.65         54.89  1987-02-01\n",
       "2           NaN           59.99         55.16  1987-03-01\n",
       "3           NaN           60.81         55.85  1987-04-01\n",
       "4           NaN           61.67         56.35  1987-05-01\n",
       "..          ...             ...           ...         ...\n",
       "342      154.82          238.27        215.22  2015-08-01\n",
       "343      155.15          238.68        216.37  2015-09-01\n",
       "344      155.92          238.91        215.62  2015-10-01\n",
       "345      156.42          239.67        216.54  2015-11-01\n",
       "346      157.22          240.54        218.00  2015-12-01\n",
       "\n",
       "[347 rows x 4 columns]"
      ]
     },
     "execution_count": 23,
     "metadata": {},
     "output_type": "execute_result"
    }
   ],
   "source": [
    "algo"
   ]
  },
  {
   "cell_type": "code",
   "execution_count": null,
   "id": "040553e1-1ca9-4e5e-b3ed-92f48d45f533",
   "metadata": {},
   "outputs": [],
   "source": [
    "Nota_math_f,Nota_read_f,Nota_write_f,grade=[],[],[],[]\n",
    "Nota_math_m,Nota_read_m,Nota_write_m=[],[],[]\n",
    "\n",
    "for i in datos[\"race/ethnicity\"].unique():\n",
    "    grade.append(i)\n",
    "    Nota_math_f.append(datos[(datos[\"race/ethnicity\"]==i)&(datos[\"gender\"]==\"female\")][\"math score\"].mean())\n",
    "    Nota_read_f.append(datos[(datos[\"race/ethnicity\"]==i)&(datos[\"gender\"]==\"female\")][\"reading score\"].mean())\n",
    "    Nota_write_f.append(datos[(datos[\"race/ethnicity\"]==i)&(datos[\"gender\"]==\"female\")][\"writing score\"].mean())\n",
    "    Nota_math_m.append(datos[(datos[\"race/ethnicity\"]==i)&(datos[\"gender\"]==\"male\")][\"math score\"].mean())\n",
    "    Nota_read_m.append(datos[(datos[\"race/ethnicity\"]==i)&(datos[\"gender\"]==\"male\")][\"reading score\"].mean())\n",
    "    Nota_write_m.append(datos[(datos[\"race/ethnicity\"]==i)&(datos[\"gender\"]==\"male\")][\"writing score\"].mean())\n",
    "\n",
    "mpl.figure()\n",
    "mpl.plot(grade,Nota_math_f,label=\"math female\",linestyle=\"-\")\n",
    "mpl.plot(grade,Nota_read_f,label=\"read female\",linestyle=\"-\")\n",
    "mpl.plot(grade,Nota_write_f,label=\"write female\",linestyle=\"-\")\n",
    "mpl.plot(grade,Nota_math_m,label=\"math male\",linestyle=\"--\")\n",
    "mpl.plot(grade,Nota_read_m,label=\"read male\",linestyle=\"--\")\n",
    "mpl.plot(grade,Nota_write_m,label=\"write male\",linestyle=\"--\")\n",
    "mpl.legend()\n",
    "mpl.show()"
   ]
  },
  {
   "cell_type": "code",
   "execution_count": null,
   "id": "b4ca7bbf-d384-4bf5-abc0-a940df8bbf68",
   "metadata": {},
   "outputs": [],
   "source": [
    "len(datos[datos[\"gender\"]==\"Male\"])"
   ]
  }
 ],
 "metadata": {
  "kernelspec": {
   "display_name": "Python 3 (ipykernel)",
   "language": "python",
   "name": "python3"
  },
  "language_info": {
   "codemirror_mode": {
    "name": "ipython",
    "version": 3
   },
   "file_extension": ".py",
   "mimetype": "text/x-python",
   "name": "python",
   "nbconvert_exporter": "python",
   "pygments_lexer": "ipython3",
   "version": "3.11.2"
  }
 },
 "nbformat": 4,
 "nbformat_minor": 5
}
