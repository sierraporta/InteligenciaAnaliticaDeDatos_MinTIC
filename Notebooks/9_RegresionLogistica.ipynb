{
 "cells": [
  {
   "cell_type": "markdown",
   "id": "06ed5e55-cc19-456b-8841-08be2adfa002",
   "metadata": {},
   "source": [
    "# La regresión logística \n",
    "es un algoritmo de aprendizaje automático supervisado que se utiliza principalmente para tareas de clasificación en las que el objetivo es predecir la probabilidad de que una instancia pertenezca o no a una clase determinada. Es un tipo de algoritmo estadístico que analiza la relación entre un conjunto de variables independientes y las variables binarias dependientes. Es una potente herramienta para la toma de decisiones. Por ejemplo, correo electrónico spam o no. \n",
    "\n",
    "## Regresión logística\n",
    "La regresión logística es un algoritmo de aprendizaje automático supervisado que se utiliza principalmente para tareas de clasificación en las que el objetivo es predecir la probabilidad de que una instancia pertenezca a una clase determinada. Se utiliza para algoritmos de clasificación su nombre es regresión logística. se denomina regresión porque toma la salida de la función de regresión lineal como entrada y utiliza una función sigmoidea para estimar la probabilidad de la clase dada. La diferencia entre regresión lineal y regresión logística es que la salida de la regresión lineal es el valor continuo que puede ser cualquier cosa mientras que la regresión logística predice la probabilidad de que una instancia pertenezca o no a una clase determinada.\n",
    "\n",
    "## Prerrequisito: Comprender la regresión logística\n",
    "La regresión logística es el tipo de análisis de regresión utilizado para hallar la probabilidad de que ocurra un determinado suceso. Es el tipo de regresión más adecuado para los casos en los que tenemos una variable dependiente categórica que sólo puede tomar valores discretos. \n",
    "\n",
    "## El conjunto de datos : \n",
    "En este artículo, vamos a predecir si un estudiante será admitido en una universidad determinada, basándonos en sus puntuaciones en las pruebas gmat y gpa y en su experiencia laboral. La variable dependiente es una variable logística binaria, que se espera que adopte estrictamente una de las dos formas siguientes: admitido o no admitido. \n",
    "\n",
    "## Construcción del modelo de regresión logística :\n",
    "Statsmodels es un módulo de Python que proporciona varias funciones para estimar diferentes modelos estadísticos y realizar pruebas estadísticas.  \n",
    "\n",
    "En primer lugar, definimos el conjunto de variables dependientes (y) e independientes (X). Si la variable dependiente está en forma no numérica, primero se convierte en numérica utilizando dummies. El archivo utilizado en el ejemplo para entrenar el modelo puede descargarse aquí: https://drive.google.com/file/d/1g4Ib_zuG_hJG6VWlXvqANti69w5cM66K/view?usp=sharing.\n",
    "\n",
    "Statsmodels proporciona una función Logit() para realizar la regresión logística. La función Logit() acepta y y X como parámetros y devuelve el objeto Logit. A continuación, el modelo se ajusta a los datos."
   ]
  },
  {
   "cell_type": "code",
   "execution_count": 1,
   "id": "0bffc949-b902-4993-8e66-2c041e3b056c",
   "metadata": {},
   "outputs": [],
   "source": [
    "# importing libraries\n",
    "import statsmodels.api as sm\n",
    "import pandas as pd \n",
    "import numpy as np\n",
    "import matplotlib.pyplot as plt\n",
    "\n",
    "# loading the training dataset \n",
    "df = pd.read_csv('logit_train1.csv', index_col = 0)"
   ]
  },
  {
   "cell_type": "code",
   "execution_count": 2,
   "id": "a575aa01-1378-4af9-84af-97cca1b9e1d8",
   "metadata": {},
   "outputs": [
    {
     "data": {
      "text/html": [
       "<div>\n",
       "<style scoped>\n",
       "    .dataframe tbody tr th:only-of-type {\n",
       "        vertical-align: middle;\n",
       "    }\n",
       "\n",
       "    .dataframe tbody tr th {\n",
       "        vertical-align: top;\n",
       "    }\n",
       "\n",
       "    .dataframe thead th {\n",
       "        text-align: right;\n",
       "    }\n",
       "</style>\n",
       "<table border=\"1\" class=\"dataframe\">\n",
       "  <thead>\n",
       "    <tr style=\"text-align: right;\">\n",
       "      <th></th>\n",
       "      <th>gmat</th>\n",
       "      <th>gpa</th>\n",
       "      <th>work_experience</th>\n",
       "      <th>admitted</th>\n",
       "    </tr>\n",
       "  </thead>\n",
       "  <tbody>\n",
       "    <tr>\n",
       "      <th>16</th>\n",
       "      <td>580</td>\n",
       "      <td>2.7</td>\n",
       "      <td>4</td>\n",
       "      <td>0</td>\n",
       "    </tr>\n",
       "    <tr>\n",
       "      <th>33</th>\n",
       "      <td>660</td>\n",
       "      <td>3.3</td>\n",
       "      <td>6</td>\n",
       "      <td>1</td>\n",
       "    </tr>\n",
       "    <tr>\n",
       "      <th>8</th>\n",
       "      <td>740</td>\n",
       "      <td>3.3</td>\n",
       "      <td>5</td>\n",
       "      <td>1</td>\n",
       "    </tr>\n",
       "    <tr>\n",
       "      <th>38</th>\n",
       "      <td>590</td>\n",
       "      <td>1.7</td>\n",
       "      <td>4</td>\n",
       "      <td>0</td>\n",
       "    </tr>\n",
       "    <tr>\n",
       "      <th>32</th>\n",
       "      <td>660</td>\n",
       "      <td>4.0</td>\n",
       "      <td>4</td>\n",
       "      <td>1</td>\n",
       "    </tr>\n",
       "    <tr>\n",
       "      <th>18</th>\n",
       "      <td>540</td>\n",
       "      <td>2.7</td>\n",
       "      <td>2</td>\n",
       "      <td>0</td>\n",
       "    </tr>\n",
       "    <tr>\n",
       "      <th>6</th>\n",
       "      <td>690</td>\n",
       "      <td>2.3</td>\n",
       "      <td>1</td>\n",
       "      <td>0</td>\n",
       "    </tr>\n",
       "    <tr>\n",
       "      <th>23</th>\n",
       "      <td>550</td>\n",
       "      <td>2.7</td>\n",
       "      <td>1</td>\n",
       "      <td>0</td>\n",
       "    </tr>\n",
       "    <tr>\n",
       "      <th>27</th>\n",
       "      <td>580</td>\n",
       "      <td>2.3</td>\n",
       "      <td>2</td>\n",
       "      <td>0</td>\n",
       "    </tr>\n",
       "    <tr>\n",
       "      <th>31</th>\n",
       "      <td>620</td>\n",
       "      <td>2.7</td>\n",
       "      <td>2</td>\n",
       "      <td>0</td>\n",
       "    </tr>\n",
       "    <tr>\n",
       "      <th>3</th>\n",
       "      <td>710</td>\n",
       "      <td>3.7</td>\n",
       "      <td>5</td>\n",
       "      <td>1</td>\n",
       "    </tr>\n",
       "    <tr>\n",
       "      <th>29</th>\n",
       "      <td>660</td>\n",
       "      <td>3.3</td>\n",
       "      <td>5</td>\n",
       "      <td>1</td>\n",
       "    </tr>\n",
       "    <tr>\n",
       "      <th>0</th>\n",
       "      <td>780</td>\n",
       "      <td>4.0</td>\n",
       "      <td>3</td>\n",
       "      <td>1</td>\n",
       "    </tr>\n",
       "    <tr>\n",
       "      <th>13</th>\n",
       "      <td>680</td>\n",
       "      <td>3.3</td>\n",
       "      <td>4</td>\n",
       "      <td>0</td>\n",
       "    </tr>\n",
       "    <tr>\n",
       "      <th>4</th>\n",
       "      <td>680</td>\n",
       "      <td>3.9</td>\n",
       "      <td>4</td>\n",
       "      <td>0</td>\n",
       "    </tr>\n",
       "    <tr>\n",
       "      <th>22</th>\n",
       "      <td>550</td>\n",
       "      <td>2.3</td>\n",
       "      <td>4</td>\n",
       "      <td>0</td>\n",
       "    </tr>\n",
       "    <tr>\n",
       "      <th>37</th>\n",
       "      <td>580</td>\n",
       "      <td>3.3</td>\n",
       "      <td>1</td>\n",
       "      <td>0</td>\n",
       "    </tr>\n",
       "    <tr>\n",
       "      <th>17</th>\n",
       "      <td>650</td>\n",
       "      <td>3.7</td>\n",
       "      <td>6</td>\n",
       "      <td>1</td>\n",
       "    </tr>\n",
       "    <tr>\n",
       "      <th>20</th>\n",
       "      <td>620</td>\n",
       "      <td>3.3</td>\n",
       "      <td>2</td>\n",
       "      <td>1</td>\n",
       "    </tr>\n",
       "    <tr>\n",
       "      <th>1</th>\n",
       "      <td>750</td>\n",
       "      <td>3.9</td>\n",
       "      <td>4</td>\n",
       "      <td>1</td>\n",
       "    </tr>\n",
       "    <tr>\n",
       "      <th>5</th>\n",
       "      <td>730</td>\n",
       "      <td>3.7</td>\n",
       "      <td>6</td>\n",
       "      <td>1</td>\n",
       "    </tr>\n",
       "    <tr>\n",
       "      <th>9</th>\n",
       "      <td>690</td>\n",
       "      <td>1.7</td>\n",
       "      <td>1</td>\n",
       "      <td>0</td>\n",
       "    </tr>\n",
       "    <tr>\n",
       "      <th>24</th>\n",
       "      <td>570</td>\n",
       "      <td>3.0</td>\n",
       "      <td>2</td>\n",
       "      <td>0</td>\n",
       "    </tr>\n",
       "    <tr>\n",
       "      <th>26</th>\n",
       "      <td>660</td>\n",
       "      <td>3.7</td>\n",
       "      <td>4</td>\n",
       "      <td>1</td>\n",
       "    </tr>\n",
       "    <tr>\n",
       "      <th>2</th>\n",
       "      <td>690</td>\n",
       "      <td>3.3</td>\n",
       "      <td>3</td>\n",
       "      <td>0</td>\n",
       "    </tr>\n",
       "    <tr>\n",
       "      <th>28</th>\n",
       "      <td>650</td>\n",
       "      <td>3.7</td>\n",
       "      <td>6</td>\n",
       "      <td>1</td>\n",
       "    </tr>\n",
       "    <tr>\n",
       "      <th>25</th>\n",
       "      <td>670</td>\n",
       "      <td>3.3</td>\n",
       "      <td>6</td>\n",
       "      <td>1</td>\n",
       "    </tr>\n",
       "    <tr>\n",
       "      <th>39</th>\n",
       "      <td>690</td>\n",
       "      <td>3.7</td>\n",
       "      <td>5</td>\n",
       "      <td>1</td>\n",
       "    </tr>\n",
       "    <tr>\n",
       "      <th>11</th>\n",
       "      <td>690</td>\n",
       "      <td>3.7</td>\n",
       "      <td>5</td>\n",
       "      <td>1</td>\n",
       "    </tr>\n",
       "    <tr>\n",
       "      <th>19</th>\n",
       "      <td>590</td>\n",
       "      <td>2.3</td>\n",
       "      <td>3</td>\n",
       "      <td>0</td>\n",
       "    </tr>\n",
       "  </tbody>\n",
       "</table>\n",
       "</div>"
      ],
      "text/plain": [
       "    gmat  gpa  work_experience  admitted\n",
       "16   580  2.7                4         0\n",
       "33   660  3.3                6         1\n",
       "8    740  3.3                5         1\n",
       "38   590  1.7                4         0\n",
       "32   660  4.0                4         1\n",
       "18   540  2.7                2         0\n",
       "6    690  2.3                1         0\n",
       "23   550  2.7                1         0\n",
       "27   580  2.3                2         0\n",
       "31   620  2.7                2         0\n",
       "3    710  3.7                5         1\n",
       "29   660  3.3                5         1\n",
       "0    780  4.0                3         1\n",
       "13   680  3.3                4         0\n",
       "4    680  3.9                4         0\n",
       "22   550  2.3                4         0\n",
       "37   580  3.3                1         0\n",
       "17   650  3.7                6         1\n",
       "20   620  3.3                2         1\n",
       "1    750  3.9                4         1\n",
       "5    730  3.7                6         1\n",
       "9    690  1.7                1         0\n",
       "24   570  3.0                2         0\n",
       "26   660  3.7                4         1\n",
       "2    690  3.3                3         0\n",
       "28   650  3.7                6         1\n",
       "25   670  3.3                6         1\n",
       "39   690  3.7                5         1\n",
       "11   690  3.7                5         1\n",
       "19   590  2.3                3         0"
      ]
     },
     "execution_count": 2,
     "metadata": {},
     "output_type": "execute_result"
    }
   ],
   "source": [
    "df"
   ]
  },
  {
   "cell_type": "code",
   "execution_count": 3,
   "id": "58626e08-f052-4a33-88a7-182a423c6b02",
   "metadata": {},
   "outputs": [],
   "source": [
    "# defining the dependent and independent variables\n",
    "Xtrain = df[['gmat', 'gpa', 'work_experience']]\n",
    "ytrain = df[['admitted']]"
   ]
  },
  {
   "cell_type": "code",
   "execution_count": 4,
   "id": "e4390568-7d33-481d-8da6-444d961e364d",
   "metadata": {},
   "outputs": [
    {
     "name": "stdout",
     "output_type": "stream",
     "text": [
      "Optimization terminated successfully.\n",
      "         Current function value: 0.352707\n",
      "         Iterations 8\n"
     ]
    }
   ],
   "source": [
    "# building the model and fitting the data\n",
    "log_reg = sm.Logit(ytrain, Xtrain).fit()"
   ]
  },
  {
   "cell_type": "markdown",
   "id": "7f43bd6f-f2d1-4c40-abd3-9e3607583ac7",
   "metadata": {},
   "source": [
    "## La tabla resumen :\n",
    "El siguiente cuadro sinóptico nos ofrece un resumen descriptivo de los resultados de la regresión."
   ]
  },
  {
   "cell_type": "code",
   "execution_count": 5,
   "id": "db26b7d5-fe78-403f-bfa0-50307d8c8895",
   "metadata": {},
   "outputs": [
    {
     "name": "stdout",
     "output_type": "stream",
     "text": [
      "                           Logit Regression Results                           \n",
      "==============================================================================\n",
      "Dep. Variable:               admitted   No. Observations:                   30\n",
      "Model:                          Logit   Df Residuals:                       27\n",
      "Method:                           MLE   Df Model:                            2\n",
      "Date:                Wed, 28 Jun 2023   Pseudo R-squ.:                  0.4912\n",
      "Time:                        17:15:28   Log-Likelihood:                -10.581\n",
      "converged:                       True   LL-Null:                       -20.794\n",
      "Covariance Type:            nonrobust   LLR p-value:                 3.668e-05\n",
      "===================================================================================\n",
      "                      coef    std err          z      P>|z|      [0.025      0.975]\n",
      "-----------------------------------------------------------------------------------\n",
      "gmat               -0.0262      0.011     -2.383      0.017      -0.048      -0.005\n",
      "gpa                 3.9422      1.964      2.007      0.045       0.092       7.792\n",
      "work_experience     1.1983      0.482      2.487      0.013       0.254       2.143\n",
      "===================================================================================\n"
     ]
    }
   ],
   "source": [
    "# printing the summary table\n",
    "print(log_reg.summary())"
   ]
  },
  {
   "cell_type": "markdown",
   "id": "700b76e8-7c5b-461b-b085-8431c687eb68",
   "metadata": {},
   "source": [
    "## Explicación de algunos términos del cuadro recapitulativo:\n",
    "\n",
    "**coef** : los coeficientes de las variables independientes en la ecuación de regresión.\n",
    "**Log-verosimilitud** : el logaritmo natural de la función de estimación de máxima verosimilitud (MLE). MLE es el proceso de optimización de encontrar el conjunto de parámetros que resultan en el mejor ajuste.\n",
    "**LL-Nulo** : el valor de la log-verosimilitud del modelo cuando no se incluye ninguna variable independiente (sólo se incluye un intercepto).\n",
    "**Pseudo R-cuadrado** : sustituto del valor R-cuadrado en la regresión lineal por mínimos cuadrados. Es la relación entre la log-verosimilitud del modelo nulo y la del modelo completo.\n",
    "\n",
    "## Predicción con nuevos datos :\n",
    "Ahora probaremos nuestro modelo con nuevos datos de prueba. Los datos de prueba se cargan desde este archivo csv.\n",
    "La función predict() es útil para realizar predicciones. Las predicciones obtenidas son valores fraccionarios (entre 0 y 1) que denotan la probabilidad de ser admitido. Estos valores se redondean para obtener los valores discretos de 1 o 0."
   ]
  },
  {
   "cell_type": "code",
   "execution_count": 6,
   "id": "99a8d3d4-dec8-415a-bcaf-f9b7f5cf9819",
   "metadata": {},
   "outputs": [
    {
     "name": "stdout",
     "output_type": "stream",
     "text": [
      "Actual values [0, 0, 0, 0, 0, 1, 1, 0, 1, 1]\n",
      "Predictions : [0, 0, 0, 0, 0, 0, 0, 0, 1, 1]\n"
     ]
    }
   ],
   "source": [
    "# loading the testing dataset  \n",
    "df = pd.read_csv('logit_test1.csv', index_col = 0)\n",
    "  \n",
    "# defining the dependent and independent variables\n",
    "Xtest = df[['gmat', 'gpa', 'work_experience']]\n",
    "ytest = df['admitted']\n",
    "  \n",
    "# performing predictions on the test dataset\n",
    "yhat = log_reg.predict(Xtest)\n",
    "prediction = list(map(round, yhat))\n",
    "  \n",
    "# comparing original and predicted values of y\n",
    "print('Actual values', list(ytest.values))\n",
    "print('Predictions :', prediction)"
   ]
  },
  {
   "cell_type": "markdown",
   "id": "5879c5bd-22e5-4ba2-bd09-645db300315d",
   "metadata": {},
   "source": [
    "Comprobación de la precisión del modelo :"
   ]
  },
  {
   "cell_type": "code",
   "execution_count": 7,
   "id": "5c8630a5-42fe-40b0-82a5-bb537889487d",
   "metadata": {},
   "outputs": [
    {
     "name": "stdout",
     "output_type": "stream",
     "text": [
      "Confusion Matrix : \n",
      " [[6 0]\n",
      " [2 2]]\n",
      "Test accuracy =  0.8\n"
     ]
    }
   ],
   "source": [
    "from sklearn.metrics import (confusion_matrix, \n",
    "                           accuracy_score)\n",
    "  \n",
    "# confusion matrix\n",
    "cm = confusion_matrix(ytest, prediction) \n",
    "print (\"Confusion Matrix : \\n\", cm) \n",
    "  \n",
    "# accuracy score of the model\n",
    "print('Test accuracy = ', accuracy_score(ytest, prediction))"
   ]
  },
  {
   "cell_type": "code",
   "execution_count": 8,
   "id": "3677ecb3-203f-43b9-9991-07760ed8a6cc",
   "metadata": {},
   "outputs": [
    {
     "data": {
      "image/png": "[encoded data removed]",
      "text/plain": [
       "<Figure size 640x480 with 2 Axes>"
      ]
     },
     "metadata": {},
     "output_type": "display_data"
    }
   ],
   "source": [
    "from sklearn.metrics import confusion_matrix, ConfusionMatrixDisplay\n",
    "disp = ConfusionMatrixDisplay(confusion_matrix=cm, display_labels=[0,1])\n",
    "disp.plot()\n",
    "plt.show()"
   ]
  },
  {
   "cell_type": "code",
   "execution_count": 9,
   "id": "25917cb1-6a87-4ae6-9020-af683715b020",
   "metadata": {},
   "outputs": [
    {
     "data": {
      "text/plain": [
       "array([0.99997831])"
      ]
     },
     "execution_count": 9,
     "metadata": {},
     "output_type": "execute_result"
    }
   ],
   "source": [
    "log_reg.predict([467,4,6])"
   ]
  },
  {
   "cell_type": "code",
   "execution_count": null,
   "id": "58bef669-feee-4915-a83d-8f30983c7674",
   "metadata": {},
   "outputs": [],
   "source": []
  },
  {
   "cell_type": "code",
   "execution_count": null,
   "id": "e23d72cd-7fe5-4503-80c1-2c862575f3fb",
   "metadata": {},
   "outputs": [],
   "source": []
  }
 ],
 "metadata": {
  "kernelspec": {
   "display_name": "Python 3 (ipykernel)",
   "language": "python",
   "name": "python3"
  },
  "language_info": {
   "codemirror_mode": {
    "name": "ipython",
    "version": 3
   },
   "file_extension": ".py",
   "mimetype": "text/x-python",
   "name": "python",
   "nbconvert_exporter": "python",
   "pygments_lexer": "ipython3",
   "version": "3.11.2"
  }
 },
 "nbformat": 4,
 "nbformat_minor": 5
}
