{
 "cells": [
  {
   "cell_type": "code",
   "execution_count": 1,
   "id": "6bc5f3c8-a75f-4e1a-a2f7-3c528198e2db",
   "metadata": {
    "tags": []
   },
   "outputs": [],
   "source": [
    "%matplotlib inline"
   ]
  },
  {
   "cell_type": "markdown",
   "id": "456b859f-d8cb-4581-8bba-348f5a48a4a2",
   "metadata": {},
   "source": [
    "# Algunas cosas a tener en mente antes de empezar:\n",
    "\n",
    "- ¿Por qué aprendizaje automático?\n",
    "- Problemas que puede resolver el aprendizaje automático\n",
    "- Conocer la tarea y conocer los datos\n",
    "- Importancia de trabajar con datos\n",
    "- ¿Por qué Python?\n",
    "    - scikit-learn\n",
    "    - Instalación de scikit-learn\n",
    "- Bibliotecas y herramientas esenciales\n",
    "- Cuaderno Jupyter"
   ]
  },
  {
   "cell_type": "markdown",
   "id": "9c48424a-c6fe-455f-81bb-f7d1f6376c4d",
   "metadata": {},
   "source": [
    "# Algunos Cheat Sheet básicos para ponernos en onda....\n",
    "\n",
    "\n",
    "<img src=\"https://python3.info/_images/scipy-ecosystem1.png\" align=\"right\" width=\"850px\" margin-right=\"1000px\"/>\n",
    "\n",
    "### **Básicos:**\n",
    "[Python_Cheat_Sheet_for_Beginners.pdf](https://res.cloudinary.com/dyd911kmh/image/upload/v1673614153/Marketing/Blog/Python_Cheat_Sheet_for_Beginners.pdf)\n",
    "### **Numpy, la librería de números y arreglos:**\n",
    "[Numpy_Cheat_Sheet.pdf](https://res.cloudinary.com/dyd911kmh/image/upload/v1676302459/Marketing/Blog/Numpy_Cheat_Sheet.pdf)\n",
    "### **Pandas, la librería por excelencia para datos:**\n",
    "[Pandas_Cheat_Sheet.pdf](https://res.cloudinary.com/dyd911kmh/image/upload/v1676302204/Marketing/Blog/Pandas_Cheat_Sheet.pdf), [Data_Wrangling_Cheat_Sheet.pdf](https://res.cloudinary.com/dyd911kmh/image/upload/v1676302827/Marketing/Blog/Data_Wrangling_Cheat_Sheet.pdf)\n",
    "### **Visualización:**\n",
    "[Matplotlib_Cheat_Sheet.pdf](https://res.cloudinary.com/dyd911kmh/image/upload/v1676360378/Marketing/Blog/Matplotlib_Cheat_Sheet.pdf), [Plotly_Cheat_Sheet.pdf](https://res.cloudinary.com/dyd911kmh/image/upload/v1668605954/Marketing/Blog/Plotly_Cheat_Sheet.pdf), [Seaborn_Cheat_Sheet.pdf](https://res.cloudinary.com/dyd911kmh/image/upload/v1676302629/Marketing/Blog/Seaborn_Cheat_Sheet.pdf)\n",
    "### **Scipy, la librería de cálculo científico:**\n",
    "[SciPy_Cheat_Sheet.pdf](https://res.cloudinary.com/dyd911kmh/image/upload/v1676303474/Marketing/Blog/SciPy_Cheat_Sheet.pdf)\n",
    "### **Datos, datos, datos....**\n",
    "[Importing_Data_Cheat_Sheet.pdf](https://res.cloudinary.com/dyd911kmh/image/upload/v1676302004/Marketing/Blog/Importing_Data_Cheat_Sheet.pdf)\n",
    "### **Jupyter Notebook, JupyterLab:**\n",
    "[Jupyterlab_Cheat_Sheet.pdf](https://res.cloudinary.com/dyd911kmh/image/upload/v1676302533/Marketing/Blog/Jupyterlab_Cheat_Sheet.pdf)\n",
    "### **Machine Learning:**\n",
    "[Scikit-Learn_Cheat_Sheet.pdf](https://res.cloudinary.com/dyd911kmh/image/upload/v1676302389/Marketing/Blog/Scikit-Learn_Cheat_Sheet.pdf), [Keras_Cheat_Sheet_gssmi8.pdf](https://res.cloudinary.com/dyd911kmh/image/upload/v1660903348/Keras_Cheat_Sheet_gssmi8.pdf)\n",
    "\n",
    "### **Datos para tus proyectos**:\n",
    "- **kaggle**: [https://www.kaggle.com/datasets](https://www.kaggle.com/datasets)\n",
    "- **Google**: [https://datasetsearch.research.google.com/](https://datasetsearch.research.google.com/)\n",
    "- **UCI**: [https://archive.ics.uci.edu/ml/datasets.php](https://archive.ics.uci.edu/ml/datasets.php)\n",
    "- **datahub.io**: [https://datahub.io/collections](https://datahub.io/collections)\n",
    "- **StatLib---Datasets Archive**: [http://lib.stat.cmu.edu/datasets/](http://lib.stat.cmu.edu/datasets/)"
   ]
  },
  {
   "cell_type": "markdown",
   "id": "a18f5e3e-289b-4ce2-b73d-2faa25a121e1",
   "metadata": {},
   "source": [
    "Vamos a probar algunas cosas varias....."
   ]
  }
 ],
 "metadata": {
  "kernelspec": {
   "display_name": "Python 3 (ipykernel)",
   "language": "python",
   "name": "python3"
  },
  "language_info": {
   "codemirror_mode": {
    "name": "ipython",
    "version": 3
   },
   "file_extension": ".py",
   "mimetype": "text/x-python",
   "name": "python",
   "nbconvert_exporter": "python",
   "pygments_lexer": "ipython3",
   "version": "3.11.2"
  }
 },
 "nbformat": 4,
 "nbformat_minor": 5
}
