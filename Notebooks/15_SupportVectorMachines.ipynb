{
 "cells": [
  {
   "cell_type": "markdown",
   "id": "48620597-c405-4faa-9016-7cc8a72a72e1",
   "metadata": {},
   "source": [
    "# Máquinas de vectores soporte con Scikit-learn Tutorial\n",
    "En este tutorial aprenderás sobre las Máquinas de Vectores Soporte, uno de los algoritmos de aprendizaje automático supervisado más populares y utilizados.\n",
    "\n",
    "SVM ofrece una precisión muy alta en comparación con otros clasificadores como la regresión logística, y los árboles de decisión. Es conocido por su truco de kernel para manejar espacios de entrada no lineales. Se utiliza en una variedad de aplicaciones tales como la detección de rostros, detección de intrusos, clasificación de correos electrónicos, artículos de noticias y páginas web, clasificación de genes, y el reconocimiento de escritura a mano.\n",
    "\n",
    "En este tutorial, se utilizará scikit-learn en Python. Si quieres aprender más sobre este paquete de Python, te recomiendo que eches un vistazo a nuestro curso Aprendizaje Supervisado con scikit-learn.\n",
    "\n",
    "SVM es un algoritmo emocionante y los conceptos son relativamente simples. El clasificador separa los puntos de datos utilizando un hiperplano con la mayor cantidad de margen. Es por eso que un clasificador SVM también se conoce como un clasificador discriminativo. SVM encuentra un hiperplano óptimo que ayuda a clasificar nuevos puntos de datos."
   ]
  },
  {
   "cell_type": "markdown",
   "id": "2f5d99c9-2e82-40fc-978c-25534616d899",
   "metadata": {},
   "source": [
    "# Máquinas de vectores soporte\n",
    "En general, las máquinas de vectores de soporte se consideran un método de clasificación, pero pueden emplearse tanto en problemas de clasificación como de regresión. Puede manejar fácilmente múltiples variables continuas y categóricas. SVM construye un hiperplano en un espacio multidimensional para separar las diferentes clases. La SVM genera un hiperplano óptimo de forma iterativa, que se utiliza para minimizar un error. La idea central de SVM es encontrar un hiperplano marginal máximo (MMH) que divida mejor el conjunto de datos en clases.\n",
    "\n",
    "![](http://res.cloudinary.com/dyd911kmh/image/upload/f_auto,q_auto:best/v1526288453/index3_souoaz.png)\n",
    "\n",
    "## Vectores de soporte\n",
    "Los vectores de soporte son los puntos de datos más cercanos al hiperplano. Estos puntos definirán mejor la línea de separación mediante el cálculo de márgenes. Estos puntos son más relevantes para la construcción del clasificador.\n",
    "\n",
    "## Hiperplano\n",
    "Un hiperplano es un plano de decisión que separa un conjunto de objetos que pertenecen a clases diferentes.\n",
    "\n",
    "## Margen\n",
    "Un margen es un espacio entre las dos líneas de los puntos de clase más cercanos. Se calcula como la distancia perpendicular de la línea a los vectores de soporte o puntos más cercanos. Si el margen es mayor entre las clases, entonces se considera un buen margen, un margen menor es un mal margen.\n",
    "\n"
   ]
  },
  {
   "cell_type": "markdown",
   "id": "6aa19b26-c9b5-448b-8cc6-13556143c4de",
   "metadata": {},
   "source": [
    "# ¿Cómo funciona la SVM?\n",
    "El objetivo principal es segregar el conjunto de datos dado de la mejor manera posible. La distancia entre los dos puntos más cercanos se conoce como margen. El objetivo es seleccionar un hiperplano con el máximo margen posible entre los vectores de soporte en el conjunto de datos dado. SVM busca el máximo hiperplano marginal en los siguientes pasos:\n",
    "\n",
    "Genera hiperplanos que segregan las clases de la mejor manera. Figura de la izquierda que muestra tres hiperplanos negro, azul y naranja. Aquí, el azul y el naranja tienen mayor error de clasificación, pero el negro separa las dos clases correctamente.\n",
    "\n",
    "Seleccione el hiperplano derecho con la máxima segregación a partir de los dos puntos de datos más cercanos, como se muestra en la figura de la derecha.\n",
    "\n",
    "![](http://res.cloudinary.com/dyd911kmh/image/upload/f_auto,q_auto:best/v1526288454/index2_ub1uzd.png)\n",
    "\n",
    "Tratar con planos no lineales e inseparables\n",
    "Algunos problemas no pueden resolverse utilizando hiperplano lineal, como se muestra en la figura siguiente (lado izquierdo).\n",
    "\n",
    "En tal situación, SVM utiliza un truco de núcleo para transformar el espacio de entrada a un espacio de mayor dimensión, como se muestra a la derecha. Los puntos de datos se representan en los ejes x y z (Z es la suma cuadrada de x e y: z=x^2=y^2). Ahora puede segregar fácilmente estos puntos utilizando la separación lineal.\n",
    "\n",
    "![](http://res.cloudinary.com/dyd911kmh/image/upload/f_auto,q_auto:best/v1526288453/index_bnr4rx.png)"
   ]
  },
  {
   "cell_type": "markdown",
   "id": "d11b6a5a-7260-41eb-8eea-639d3a700370",
   "metadata": {},
   "source": [
    "# Manos a la obra...\n",
    "\n",
    "## Construcción de Clasificadores en Scikit-learn\n",
    "Hasta ahora, usted ha aprendido acerca de los antecedentes teóricos de SVM. Ahora usted aprenderá acerca de su aplicación en Python utilizando scikit-learn.\n",
    "\n",
    "En el modelo de la parte de construcción, puede utilizar el conjunto de datos de cáncer, que es un muy famoso problema de clasificación multiclase. Este conjunto de datos se calcula a partir de una imagen digitalizada de un aspirado con aguja fina (AAF) de una masa mamaria. Describen características de los núcleos celulares presentes en la imagen.\n",
    "\n",
    "El conjunto de datos comprende 30 características (radio medio, textura media, perímetro medio, área media, suavidad media, compacidad media, concavidad media, puntos cóncavos medios, simetría media, dimensión fractal media, error de radio, error de textura, error de perímetro, error de área, error de suavidad, error de compacidad, error de concavidad, error de puntos cóncavos, error de simetría, error de dimensión fractal, peor radio, peor textura, peor perímetro, peor área, peor suavidad, peor compacidad, peor concavidad, peores puntos cóncavos, peor simetría y peor dimensión fractal) y un objetivo (tipo de cáncer).\n",
    "\n",
    "Estos datos tienen dos clases de cáncer: maligno (dañino) y benigno (no dañino). Aquí se puede construir un modelo para clasificar el tipo de cáncer. El conjunto de datos está disponible en la librería scikit-learn o también puedes descargarlo de la UCI Machine Learning Library.\n",
    "\n",
    "## Carga de datos\n",
    "Primero vamos a cargar el conjunto de datos que vamos a utilizar."
   ]
  },
  {
   "cell_type": "code",
   "execution_count": 1,
   "id": "9677ce8f-63e0-4509-98d6-e841c25f7f9a",
   "metadata": {},
   "outputs": [],
   "source": [
    "import numpy as np\n",
    "import pandas as pd\n",
    "import matplotlib.pyplot as plt"
   ]
  },
  {
   "cell_type": "code",
   "execution_count": 2,
   "id": "bec6576f-6225-4d2e-8caf-e450af631d1d",
   "metadata": {},
   "outputs": [],
   "source": [
    "#Import scikit-learn dataset library\n",
    "from sklearn import datasets\n",
    "\n",
    "#Load dataset\n",
    "cancer = datasets.load_breast_cancer()"
   ]
  },
  {
   "cell_type": "code",
   "execution_count": 3,
   "id": "fe5ff716-f1be-43f9-a0cc-62aafb08b336",
   "metadata": {},
   "outputs": [
    {
     "name": "stdout",
     "output_type": "stream",
     "text": [
      "Features:  ['mean radius' 'mean texture' 'mean perimeter' 'mean area'\n",
      " 'mean smoothness' 'mean compactness' 'mean concavity'\n",
      " 'mean concave points' 'mean symmetry' 'mean fractal dimension'\n",
      " 'radius error' 'texture error' 'perimeter error' 'area error'\n",
      " 'smoothness error' 'compactness error' 'concavity error'\n",
      " 'concave points error' 'symmetry error' 'fractal dimension error'\n",
      " 'worst radius' 'worst texture' 'worst perimeter' 'worst area'\n",
      " 'worst smoothness' 'worst compactness' 'worst concavity'\n",
      " 'worst concave points' 'worst symmetry' 'worst fractal dimension']\n",
      "Labels:  ['malignant' 'benign']\n"
     ]
    }
   ],
   "source": [
    "#Exploring Data\n",
    "#After you have loaded the dataset, you might want to know a little bit more about it. You can check feature and target names.\n",
    "\n",
    "# print the names of the 13 features\n",
    "print(\"Features: \", cancer.feature_names)\n",
    "\n",
    "# print the label type of cancer('malignant' 'benign')\n",
    "print(\"Labels: \", cancer.target_names)"
   ]
  },
  {
   "cell_type": "code",
   "execution_count": 4,
   "id": "c8a7f265-b83e-4751-8192-05a471a21fc5",
   "metadata": {},
   "outputs": [
    {
     "name": "stdout",
     "output_type": "stream",
     "text": [
      "[0 0 0 0 0 0 0 0 0 0 0 0 0 0 0 0 0 0 0 1 1 1 0 0 0 0 0 0 0 0 0 0 0 0 0 0 0\n",
      " 1 0 0 0 0 0 0 0 0 1 0 1 1 1 1 1 0 0 1 0 0 1 1 1 1 0 1 0 0 1 1 1 1 0 1 0 0\n",
      " 1 0 1 0 0 1 1 1 0 0 1 0 0 0 1 1 1 0 1 1 0 0 1 1 1 0 0 1 1 1 1 0 1 1 0 1 1\n",
      " 1 1 1 1 1 1 0 0 0 1 0 0 1 1 1 0 0 1 0 1 0 0 1 0 0 1 1 0 1 1 0 1 1 1 1 0 1\n",
      " 1 1 1 1 1 1 1 1 0 1 1 1 1 0 0 1 0 1 1 0 0 1 1 0 0 1 1 1 1 0 1 1 0 0 0 1 0\n",
      " 1 0 1 1 1 0 1 1 0 0 1 0 0 0 0 1 0 0 0 1 0 1 0 1 1 0 1 0 0 0 0 1 1 0 0 1 1\n",
      " 1 0 1 1 1 1 1 0 0 1 1 0 1 1 0 0 1 0 1 1 1 1 0 1 1 1 1 1 0 1 0 0 0 0 0 0 0\n",
      " 0 0 0 0 0 0 0 1 1 1 1 1 1 0 1 0 1 1 0 1 1 0 1 0 0 1 1 1 1 1 1 1 1 1 1 1 1\n",
      " 1 0 1 1 0 1 0 1 1 1 1 1 1 1 1 1 1 1 1 1 1 0 1 1 1 0 1 0 1 1 1 1 0 0 0 1 1\n",
      " 1 1 0 1 0 1 0 1 1 1 0 1 1 1 1 1 1 1 0 0 0 1 1 1 1 1 1 1 1 1 1 1 0 0 1 0 0\n",
      " 0 1 0 0 1 1 1 1 1 0 1 1 1 1 1 0 1 1 1 0 1 1 0 0 1 1 1 1 1 1 0 1 1 1 1 1 1\n",
      " 1 0 1 1 1 1 1 0 1 1 0 1 1 1 1 1 1 1 1 1 1 1 1 0 1 0 0 1 0 1 1 1 1 1 0 1 1\n",
      " 0 1 0 1 1 0 1 0 1 1 1 1 1 1 1 1 0 0 1 1 1 1 1 1 0 1 1 1 1 1 1 1 1 1 1 0 1\n",
      " 1 1 1 1 1 1 0 1 0 1 1 0 1 1 1 1 1 0 0 1 0 1 0 1 1 1 1 1 0 1 1 0 1 0 1 0 0\n",
      " 1 1 1 0 1 1 1 1 1 1 1 1 1 1 1 0 1 0 0 1 1 1 1 1 1 1 1 1 1 1 1 1 1 1 1 1 1\n",
      " 1 1 1 1 1 1 1 0 0 0 0 0 0 1]\n"
     ]
    }
   ],
   "source": [
    "# print the cancer labels (0:malignant, 1:benign)\n",
    "print(cancer.target)"
   ]
  },
  {
   "cell_type": "code",
   "execution_count": 5,
   "id": "42728877-9f4e-482f-b0e2-b7eb7025367e",
   "metadata": {},
   "outputs": [],
   "source": [
    "#Splitting Data\n",
    "#To understand model performance, dividing the dataset into a training set and a test set is a good strategy.\n",
    "\n",
    "#Split the dataset by using the function train_test_split(). you need to pass 3 parameters features, target, and test_set size. Additionally, you can use random_state to select records randomly.\n",
    "\n",
    "\n",
    "# Import train_test_split function\n",
    "from sklearn.model_selection import train_test_split\n",
    "\n",
    "# Split dataset into training set and test set\n",
    "X_train, X_test, y_train, y_test = train_test_split(cancer.data, cancer.target, test_size=0.3,random_state=109) # 70% training and 30% test"
   ]
  },
  {
   "cell_type": "code",
   "execution_count": 6,
   "id": "f7a1eb78-248c-422a-9e1a-9b6fe0ed782e",
   "metadata": {},
   "outputs": [],
   "source": [
    "#Generating Model\n",
    "#Let's build support vector machine model. First, import the SVM module and create support vector classifier object by passing argument kernel as the linear kernel in SVC() function.\n",
    "#Then, fit your model on train set using fit() and perform prediction on the test set using predict().\n",
    "\n",
    "#Import svm model\n",
    "from sklearn import svm\n",
    "\n",
    "#Create a svm Classifier\n",
    "clf = svm.SVC(kernel='linear') # Linear Kernel\n",
    "\n",
    "#Train the model using the training sets\n",
    "clf.fit(X_train, y_train)\n",
    "\n",
    "#Predict the response for test dataset\n",
    "y_pred = clf.predict(X_test)"
   ]
  },
  {
   "cell_type": "code",
   "execution_count": 7,
   "id": "4a1f4293-944c-4e8d-b04d-7c9454cefdd2",
   "metadata": {},
   "outputs": [
    {
     "name": "stdout",
     "output_type": "stream",
     "text": [
      "Accuracy: 0.9649122807017544\n"
     ]
    }
   ],
   "source": [
    "#Evaluating the Model\n",
    "#Let's estimate how accurately the classifier or model can predict the breast cancer of patients.\n",
    "#Accuracy can be computed by comparing actual test set values and predicted values.\n",
    "\n",
    "#Import scikit-learn metrics module for accuracy calculation\n",
    "from sklearn import metrics\n",
    "\n",
    "# Model Accuracy: how often is the classifier correct?\n",
    "print(\"Accuracy:\",metrics.accuracy_score(y_test, y_pred))"
   ]
  },
  {
   "cell_type": "markdown",
   "id": "8e55df7f-e7c0-4f5e-9ab5-166a86425193",
   "metadata": {},
   "source": [
    "## Tuning Hyperparameters\n",
    "\n",
    "## Kernel: \n",
    "The main function of the kernel is to transform the given dataset input data into the required form. There are various types of functions such as linear, polynomial, and radial basis function (RBF). Polynomial and RBF are useful for non-linear hyperplane. Polynomial and RBF kernels compute the separation line in the higher dimension. In some of the applications, it is suggested to use a more complex kernel to separate the classes that are curved or nonlinear. This transformation can lead to more accurate classifiers.\n",
    "## Regularization: \n",
    "Regularization parameter in python's Scikit-learn C parameter used to maintain regularization. Here C is the penalty parameter, which represents misclassification or error term. The misclassification or error term tells the SVM optimization how much error is bearable. This is how you can control the trade-off between decision boundary and misclassification term. A smaller value of C creates a small-margin hyperplane and a larger value of C creates a larger-margin hyperplane.\n",
    "## Gamma: \n",
    "A lower value of Gamma will loosely fit the training dataset, whereas a higher value of gamma will exactly fit the training dataset, which causes over-fitting. In other words, you can say a low value of gamma considers only nearby points in calculating the separation line, while the a value of gamma considers all the data points in the calculation of the separation line."
   ]
  },
  {
   "cell_type": "code",
   "execution_count": 8,
   "id": "a3af8054-3343-465d-ae0c-671394d49673",
   "metadata": {},
   "outputs": [
    {
     "name": "stdout",
     "output_type": "stream",
     "text": [
      "Accuracy: 0.9649122807017544\n",
      "F1 Score: 0.9648021191998689\n"
     ]
    }
   ],
   "source": [
    "from sklearn.metrics import (\n",
    "    accuracy_score,\n",
    "    confusion_matrix,\n",
    "    ConfusionMatrixDisplay,\n",
    "    f1_score,\n",
    ")\n",
    "accuray = accuracy_score(y_pred, y_test)\n",
    "f1 = f1_score(y_pred, y_test, average=\"weighted\")\n",
    "\n",
    "print(\"Accuracy:\", accuray)\n",
    "print(\"F1 Score:\", f1)"
   ]
  },
  {
   "cell_type": "code",
   "execution_count": 9,
   "id": "cd8b3e7c-94d8-4970-a694-65a8f7330fb7",
   "metadata": {},
   "outputs": [
    {
     "data": {
      "image/png": "[encoded data removed]",
      "text/plain": [
       "<Figure size 640x480 with 2 Axes>"
      ]
     },
     "metadata": {},
     "output_type": "display_data"
    }
   ],
   "source": [
    "cm=confusion_matrix(y_test, y_pred, labels=clf.classes_)/confusion_matrix(y_test, y_pred, labels=clf.classes_).sum(axis=1)*100\n",
    "ConfusionMatrixDisplay(confusion_matrix=cm,display_labels=clf.classes_).plot()\n",
    "plt.xticks(rotation=30,ha=\"right\")\n",
    "plt.show()"
   ]
  },
  {
   "cell_type": "code",
   "execution_count": 10,
   "id": "55a819a2-e4a5-48f9-9a68-c37166b9bc09",
   "metadata": {},
   "outputs": [],
   "source": [
    "## Tarea: Cambiar el conjunto de datos y practicar. También prácticar con hypertunning parameters...."
   ]
  },
  {
   "cell_type": "code",
   "execution_count": null,
   "id": "be39c9a5-7264-4b4c-9042-f2a593f4401a",
   "metadata": {},
   "outputs": [],
   "source": []
  }
 ],
 "metadata": {
  "kernelspec": {
   "display_name": "Python 3 (ipykernel)",
   "language": "python",
   "name": "python3"
  },
  "language_info": {
   "codemirror_mode": {
    "name": "ipython",
    "version": 3
   },
   "file_extension": ".py",
   "mimetype": "text/x-python",
   "name": "python",
   "nbconvert_exporter": "python",
   "pygments_lexer": "ipython3",
   "version": "3.11.2"
  }
 },
 "nbformat": 4,
 "nbformat_minor": 5
}
