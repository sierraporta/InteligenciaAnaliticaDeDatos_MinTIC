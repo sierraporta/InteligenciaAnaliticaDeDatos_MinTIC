{
 "cells": [
  {
   "cell_type": "markdown",
   "id": "06ed5e55-cc19-456b-8841-08be2adfa002",
   "metadata": {},
   "source": [
    "# La regresión logística \n",
    "es un algoritmo de aprendizaje automático supervisado que se utiliza principalmente para tareas de clasificación en las que el objetivo es predecir la probabilidad de que una instancia pertenezca o no a una clase determinada. Es un tipo de algoritmo estadístico que analiza la relación entre un conjunto de variables independientes y las variables binarias dependientes. Es una potente herramienta para la toma de decisiones. Por ejemplo, correo electrónico spam o no. \n",
    "\n",
    "## Regresión logística\n",
    "La regresión logística es un algoritmo de aprendizaje automático supervisado que se utiliza principalmente para tareas de clasificación en las que el objetivo es predecir la probabilidad de que una instancia pertenezca a una clase determinada. Se utiliza para algoritmos de clasificación su nombre es regresión logística. se denomina regresión porque toma la salida de la función de regresión lineal como entrada y utiliza una función sigmoidea para estimar la probabilidad de la clase dada. La diferencia entre regresión lineal y regresión logística es que la salida de la regresión lineal es el valor continuo que puede ser cualquier cosa mientras que la regresión logística predice la probabilidad de que una instancia pertenezca o no a una clase determinada.\n",
    "\n",
    "## Prerrequisito: Comprender la regresión logística\n",
    "La regresión logística es el tipo de análisis de regresión utilizado para hallar la probabilidad de que ocurra un determinado suceso. Es el tipo de regresión más adecuado para los casos en los que tenemos una variable dependiente categórica que sólo puede tomar valores discretos. \n",
    "\n",
    "## El conjunto de datos : \n",
    "En este artículo, vamos a predecir si un estudiante será admitido en una universidad determinada, basándonos en sus puntuaciones en las pruebas gmat y gpa y en su experiencia laboral. La variable dependiente es una variable logística binaria, que se espera que adopte estrictamente una de las dos formas siguientes: admitido o no admitido. \n",
    "\n",
    "## Construcción del modelo de regresión logística :\n",
    "Statsmodels es un módulo de Python que proporciona varias funciones para estimar diferentes modelos estadísticos y realizar pruebas estadísticas.  \n",
    "\n",
    "En primer lugar, definimos el conjunto de variables dependientes (y) e independientes (X). Si la variable dependiente está en forma no numérica, primero se convierte en numérica utilizando dummies. El archivo utilizado en el ejemplo para entrenar el modelo puede descargarse aquí: https://drive.google.com/file/d/1g4Ib_zuG_hJG6VWlXvqANti69w5cM66K/view?usp=sharing.\n",
    "\n",
    "Statsmodels proporciona una función Logit() para realizar la regresión logística. La función Logit() acepta y y X como parámetros y devuelve el objeto Logit. A continuación, el modelo se ajusta a los datos."
   ]
  },
  {
   "cell_type": "code",
   "execution_count": 45,
   "id": "0bffc949-b902-4993-8e66-2c041e3b056c",
   "metadata": {},
   "outputs": [],
   "source": [
    "# importing libraries\n",
    "import statsmodels.api as sm\n",
    "import pandas as pd \n",
    "import numpy as np\n",
    "import matplotlib.pyplot as plt\n",
    "\n",
    "# loading the training dataset \n",
    "df = pd.read_csv('logit_train1.csv', index_col = 0)"
   ]
  },
  {
   "cell_type": "code",
   "execution_count": 46,
   "id": "a575aa01-1378-4af9-84af-97cca1b9e1d8",
   "metadata": {},
   "outputs": [
    {
     "data": {
      "text/html": [
       "<div>\n",
       "<style scoped>\n",
       "    .dataframe tbody tr th:only-of-type {\n",
       "        vertical-align: middle;\n",
       "    }\n",
       "\n",
       "    .dataframe tbody tr th {\n",
       "        vertical-align: top;\n",
       "    }\n",
       "\n",
       "    .dataframe thead th {\n",
       "        text-align: right;\n",
       "    }\n",
       "</style>\n",
       "<table border=\"1\" class=\"dataframe\">\n",
       "  <thead>\n",
       "    <tr style=\"text-align: right;\">\n",
       "      <th></th>\n",
       "      <th>gmat</th>\n",
       "      <th>gpa</th>\n",
       "      <th>work_experience</th>\n",
       "      <th>admitted</th>\n",
       "    </tr>\n",
       "  </thead>\n",
       "  <tbody>\n",
       "    <tr>\n",
       "      <th>16</th>\n",
       "      <td>580</td>\n",
       "      <td>2.7</td>\n",
       "      <td>4</td>\n",
       "      <td>0</td>\n",
       "    </tr>\n",
       "    <tr>\n",
       "      <th>33</th>\n",
       "      <td>660</td>\n",
       "      <td>3.3</td>\n",
       "      <td>6</td>\n",
       "      <td>1</td>\n",
       "    </tr>\n",
       "    <tr>\n",
       "      <th>8</th>\n",
       "      <td>740</td>\n",
       "      <td>3.3</td>\n",
       "      <td>5</td>\n",
       "      <td>1</td>\n",
       "    </tr>\n",
       "    <tr>\n",
       "      <th>38</th>\n",
       "      <td>590</td>\n",
       "      <td>1.7</td>\n",
       "      <td>4</td>\n",
       "      <td>0</td>\n",
       "    </tr>\n",
       "    <tr>\n",
       "      <th>32</th>\n",
       "      <td>660</td>\n",
       "      <td>4.0</td>\n",
       "      <td>4</td>\n",
       "      <td>1</td>\n",
       "    </tr>\n",
       "    <tr>\n",
       "      <th>18</th>\n",
       "      <td>540</td>\n",
       "      <td>2.7</td>\n",
       "      <td>2</td>\n",
       "      <td>0</td>\n",
       "    </tr>\n",
       "    <tr>\n",
       "      <th>6</th>\n",
       "      <td>690</td>\n",
       "      <td>2.3</td>\n",
       "      <td>1</td>\n",
       "      <td>0</td>\n",
       "    </tr>\n",
       "    <tr>\n",
       "      <th>23</th>\n",
       "      <td>550</td>\n",
       "      <td>2.7</td>\n",
       "      <td>1</td>\n",
       "      <td>0</td>\n",
       "    </tr>\n",
       "    <tr>\n",
       "      <th>27</th>\n",
       "      <td>580</td>\n",
       "      <td>2.3</td>\n",
       "      <td>2</td>\n",
       "      <td>0</td>\n",
       "    </tr>\n",
       "    <tr>\n",
       "      <th>31</th>\n",
       "      <td>620</td>\n",
       "      <td>2.7</td>\n",
       "      <td>2</td>\n",
       "      <td>0</td>\n",
       "    </tr>\n",
       "    <tr>\n",
       "      <th>3</th>\n",
       "      <td>710</td>\n",
       "      <td>3.7</td>\n",
       "      <td>5</td>\n",
       "      <td>1</td>\n",
       "    </tr>\n",
       "    <tr>\n",
       "      <th>29</th>\n",
       "      <td>660</td>\n",
       "      <td>3.3</td>\n",
       "      <td>5</td>\n",
       "      <td>1</td>\n",
       "    </tr>\n",
       "    <tr>\n",
       "      <th>0</th>\n",
       "      <td>780</td>\n",
       "      <td>4.0</td>\n",
       "      <td>3</td>\n",
       "      <td>1</td>\n",
       "    </tr>\n",
       "    <tr>\n",
       "      <th>13</th>\n",
       "      <td>680</td>\n",
       "      <td>3.3</td>\n",
       "      <td>4</td>\n",
       "      <td>0</td>\n",
       "    </tr>\n",
       "    <tr>\n",
       "      <th>4</th>\n",
       "      <td>680</td>\n",
       "      <td>3.9</td>\n",
       "      <td>4</td>\n",
       "      <td>0</td>\n",
       "    </tr>\n",
       "    <tr>\n",
       "      <th>22</th>\n",
       "      <td>550</td>\n",
       "      <td>2.3</td>\n",
       "      <td>4</td>\n",
       "      <td>0</td>\n",
       "    </tr>\n",
       "    <tr>\n",
       "      <th>37</th>\n",
       "      <td>580</td>\n",
       "      <td>3.3</td>\n",
       "      <td>1</td>\n",
       "      <td>0</td>\n",
       "    </tr>\n",
       "    <tr>\n",
       "      <th>17</th>\n",
       "      <td>650</td>\n",
       "      <td>3.7</td>\n",
       "      <td>6</td>\n",
       "      <td>1</td>\n",
       "    </tr>\n",
       "    <tr>\n",
       "      <th>20</th>\n",
       "      <td>620</td>\n",
       "      <td>3.3</td>\n",
       "      <td>2</td>\n",
       "      <td>1</td>\n",
       "    </tr>\n",
       "    <tr>\n",
       "      <th>1</th>\n",
       "      <td>750</td>\n",
       "      <td>3.9</td>\n",
       "      <td>4</td>\n",
       "      <td>1</td>\n",
       "    </tr>\n",
       "    <tr>\n",
       "      <th>5</th>\n",
       "      <td>730</td>\n",
       "      <td>3.7</td>\n",
       "      <td>6</td>\n",
       "      <td>1</td>\n",
       "    </tr>\n",
       "    <tr>\n",
       "      <th>9</th>\n",
       "      <td>690</td>\n",
       "      <td>1.7</td>\n",
       "      <td>1</td>\n",
       "      <td>0</td>\n",
       "    </tr>\n",
       "    <tr>\n",
       "      <th>24</th>\n",
       "      <td>570</td>\n",
       "      <td>3.0</td>\n",
       "      <td>2</td>\n",
       "      <td>0</td>\n",
       "    </tr>\n",
       "    <tr>\n",
       "      <th>26</th>\n",
       "      <td>660</td>\n",
       "      <td>3.7</td>\n",
       "      <td>4</td>\n",
       "      <td>1</td>\n",
       "    </tr>\n",
       "    <tr>\n",
       "      <th>2</th>\n",
       "      <td>690</td>\n",
       "      <td>3.3</td>\n",
       "      <td>3</td>\n",
       "      <td>0</td>\n",
       "    </tr>\n",
       "    <tr>\n",
       "      <th>28</th>\n",
       "      <td>650</td>\n",
       "      <td>3.7</td>\n",
       "      <td>6</td>\n",
       "      <td>1</td>\n",
       "    </tr>\n",
       "    <tr>\n",
       "      <th>25</th>\n",
       "      <td>670</td>\n",
       "      <td>3.3</td>\n",
       "      <td>6</td>\n",
       "      <td>1</td>\n",
       "    </tr>\n",
       "    <tr>\n",
       "      <th>39</th>\n",
       "      <td>690</td>\n",
       "      <td>3.7</td>\n",
       "      <td>5</td>\n",
       "      <td>1</td>\n",
       "    </tr>\n",
       "    <tr>\n",
       "      <th>11</th>\n",
       "      <td>690</td>\n",
       "      <td>3.7</td>\n",
       "      <td>5</td>\n",
       "      <td>1</td>\n",
       "    </tr>\n",
       "    <tr>\n",
       "      <th>19</th>\n",
       "      <td>590</td>\n",
       "      <td>2.3</td>\n",
       "      <td>3</td>\n",
       "      <td>0</td>\n",
       "    </tr>\n",
       "  </tbody>\n",
       "</table>\n",
       "</div>"
      ],
      "text/plain": [
       "    gmat  gpa  work_experience  admitted\n",
       "16   580  2.7                4         0\n",
       "33   660  3.3                6         1\n",
       "8    740  3.3                5         1\n",
       "38   590  1.7                4         0\n",
       "32   660  4.0                4         1\n",
       "18   540  2.7                2         0\n",
       "6    690  2.3                1         0\n",
       "23   550  2.7                1         0\n",
       "27   580  2.3                2         0\n",
       "31   620  2.7                2         0\n",
       "3    710  3.7                5         1\n",
       "29   660  3.3                5         1\n",
       "0    780  4.0                3         1\n",
       "13   680  3.3                4         0\n",
       "4    680  3.9                4         0\n",
       "22   550  2.3                4         0\n",
       "37   580  3.3                1         0\n",
       "17   650  3.7                6         1\n",
       "20   620  3.3                2         1\n",
       "1    750  3.9                4         1\n",
       "5    730  3.7                6         1\n",
       "9    690  1.7                1         0\n",
       "24   570  3.0                2         0\n",
       "26   660  3.7                4         1\n",
       "2    690  3.3                3         0\n",
       "28   650  3.7                6         1\n",
       "25   670  3.3                6         1\n",
       "39   690  3.7                5         1\n",
       "11   690  3.7                5         1\n",
       "19   590  2.3                3         0"
      ]
     },
     "execution_count": 46,
     "metadata": {},
     "output_type": "execute_result"
    }
   ],
   "source": [
    "df"
   ]
  },
  {
   "cell_type": "code",
   "execution_count": 47,
   "id": "02264334-da95-4b3c-9f62-220075904509",
   "metadata": {},
   "outputs": [
    {
     "name": "stdout",
     "output_type": "stream",
     "text": [
      "Tengo  30 datos\n"
     ]
    }
   ],
   "source": [
    "print(\"Tengo \",len(df),\"datos\")"
   ]
  },
  {
   "cell_type": "code",
   "execution_count": 48,
   "id": "5b222d5d-4030-4c60-9f6a-637d2e87b923",
   "metadata": {},
   "outputs": [
    {
     "data": {
      "text/plain": [
       "Index(['gmat', 'gpa', 'work_experience', 'admitted'], dtype='object')"
      ]
     },
     "execution_count": 48,
     "metadata": {},
     "output_type": "execute_result"
    }
   ],
   "source": [
    "#Saber las columnas que tengo\n",
    "df.columns"
   ]
  },
  {
   "cell_type": "code",
   "execution_count": 49,
   "id": "8c127f41-5a33-403c-8237-66cb7277bde0",
   "metadata": {},
   "outputs": [
    {
     "name": "stdout",
     "output_type": "stream",
     "text": [
      "<class 'pandas.core.frame.DataFrame'>\n",
      "Index: 30 entries, 16 to 19\n",
      "Data columns (total 4 columns):\n",
      " #   Column           Non-Null Count  Dtype  \n",
      "---  ------           --------------  -----  \n",
      " 0   gmat             30 non-null     int64  \n",
      " 1   gpa              30 non-null     float64\n",
      " 2   work_experience  30 non-null     int64  \n",
      " 3   admitted         30 non-null     int64  \n",
      "dtypes: float64(1), int64(3)\n",
      "memory usage: 1.2 KB\n"
     ]
    }
   ],
   "source": [
    "df.info()"
   ]
  },
  {
   "cell_type": "code",
   "execution_count": 50,
   "id": "b721ccaa-a912-4250-ad3e-a32c88cd254d",
   "metadata": {},
   "outputs": [
    {
     "data": {
      "text/plain": [
       "gmat               0\n",
       "gpa                0\n",
       "work_experience    0\n",
       "admitted           0\n",
       "dtype: int64"
      ]
     },
     "execution_count": 50,
     "metadata": {},
     "output_type": "execute_result"
    }
   ],
   "source": [
    "df.isnull().sum()"
   ]
  },
  {
   "cell_type": "code",
   "execution_count": 51,
   "id": "4f960e7b-2b67-4339-8216-e28779546143",
   "metadata": {},
   "outputs": [
    {
     "data": {
      "text/html": [
       "<div>\n",
       "<style scoped>\n",
       "    .dataframe tbody tr th:only-of-type {\n",
       "        vertical-align: middle;\n",
       "    }\n",
       "\n",
       "    .dataframe tbody tr th {\n",
       "        vertical-align: top;\n",
       "    }\n",
       "\n",
       "    .dataframe thead th {\n",
       "        text-align: right;\n",
       "    }\n",
       "</style>\n",
       "<table border=\"1\" class=\"dataframe\">\n",
       "  <thead>\n",
       "    <tr style=\"text-align: right;\">\n",
       "      <th></th>\n",
       "      <th>gmat</th>\n",
       "      <th>gpa</th>\n",
       "      <th>work_experience</th>\n",
       "      <th>admitted</th>\n",
       "    </tr>\n",
       "  </thead>\n",
       "  <tbody>\n",
       "    <tr>\n",
       "      <th>count</th>\n",
       "      <td>30.000000</td>\n",
       "      <td>30.000000</td>\n",
       "      <td>30.000000</td>\n",
       "      <td>30.000000</td>\n",
       "    </tr>\n",
       "    <tr>\n",
       "      <th>mean</th>\n",
       "      <td>650.000000</td>\n",
       "      <td>3.150000</td>\n",
       "      <td>3.666667</td>\n",
       "      <td>0.500000</td>\n",
       "    </tr>\n",
       "    <tr>\n",
       "      <th>std</th>\n",
       "      <td>63.734363</td>\n",
       "      <td>0.664234</td>\n",
       "      <td>1.667816</td>\n",
       "      <td>0.508548</td>\n",
       "    </tr>\n",
       "    <tr>\n",
       "      <th>min</th>\n",
       "      <td>540.000000</td>\n",
       "      <td>1.700000</td>\n",
       "      <td>1.000000</td>\n",
       "      <td>0.000000</td>\n",
       "    </tr>\n",
       "    <tr>\n",
       "      <th>25%</th>\n",
       "      <td>590.000000</td>\n",
       "      <td>2.700000</td>\n",
       "      <td>2.000000</td>\n",
       "      <td>0.000000</td>\n",
       "    </tr>\n",
       "    <tr>\n",
       "      <th>50%</th>\n",
       "      <td>660.000000</td>\n",
       "      <td>3.300000</td>\n",
       "      <td>4.000000</td>\n",
       "      <td>0.500000</td>\n",
       "    </tr>\n",
       "    <tr>\n",
       "      <th>75%</th>\n",
       "      <td>690.000000</td>\n",
       "      <td>3.700000</td>\n",
       "      <td>5.000000</td>\n",
       "      <td>1.000000</td>\n",
       "    </tr>\n",
       "    <tr>\n",
       "      <th>max</th>\n",
       "      <td>780.000000</td>\n",
       "      <td>4.000000</td>\n",
       "      <td>6.000000</td>\n",
       "      <td>1.000000</td>\n",
       "    </tr>\n",
       "  </tbody>\n",
       "</table>\n",
       "</div>"
      ],
      "text/plain": [
       "             gmat        gpa  work_experience   admitted\n",
       "count   30.000000  30.000000        30.000000  30.000000\n",
       "mean   650.000000   3.150000         3.666667   0.500000\n",
       "std     63.734363   0.664234         1.667816   0.508548\n",
       "min    540.000000   1.700000         1.000000   0.000000\n",
       "25%    590.000000   2.700000         2.000000   0.000000\n",
       "50%    660.000000   3.300000         4.000000   0.500000\n",
       "75%    690.000000   3.700000         5.000000   1.000000\n",
       "max    780.000000   4.000000         6.000000   1.000000"
      ]
     },
     "execution_count": 51,
     "metadata": {},
     "output_type": "execute_result"
    }
   ],
   "source": [
    "# Saber algunos estadísticos descriptivos\n",
    "df.describe()"
   ]
  },
  {
   "cell_type": "code",
   "execution_count": 52,
   "id": "7832894b-51f3-4a10-ac05-fa7dab8f37e1",
   "metadata": {},
   "outputs": [
    {
     "data": {
      "text/plain": [
       "array([[<AxesSubplot:title={'center':'gmat'}>,\n",
       "        <AxesSubplot:title={'center':'gpa'}>],\n",
       "       [<AxesSubplot:title={'center':'work_experience'}>,\n",
       "        <AxesSubplot:title={'center':'admitted'}>]], dtype=object)"
      ]
     },
     "execution_count": 52,
     "metadata": {},
     "output_type": "execute_result"
    },
    {
     "data": {
      "image/png": "[encoded data removed]",
      "text/plain": [
       "<Figure size 640x480 with 4 Axes>"
      ]
     },
     "metadata": {},
     "output_type": "display_data"
    }
   ],
   "source": [
    "df.hist()"
   ]
  },
  {
   "cell_type": "code",
   "execution_count": 53,
   "id": "769ee39a-d764-44b8-ae70-fe389c84317b",
   "metadata": {},
   "outputs": [
    {
     "data": {
      "text/plain": [
       "admitted\n",
       "0    15\n",
       "1    15\n",
       "Name: count, dtype: int64"
      ]
     },
     "execution_count": 53,
     "metadata": {},
     "output_type": "execute_result"
    }
   ],
   "source": [
    "df[\"admitted\"].value_counts()"
   ]
  },
  {
   "cell_type": "code",
   "execution_count": 54,
   "id": "1cd00db4-8e74-47f1-963b-5e7059de4bed",
   "metadata": {},
   "outputs": [
    {
     "data": {
      "text/html": [
       "<div>\n",
       "<style scoped>\n",
       "    .dataframe tbody tr th:only-of-type {\n",
       "        vertical-align: middle;\n",
       "    }\n",
       "\n",
       "    .dataframe tbody tr th {\n",
       "        vertical-align: top;\n",
       "    }\n",
       "\n",
       "    .dataframe thead th {\n",
       "        text-align: right;\n",
       "    }\n",
       "</style>\n",
       "<table border=\"1\" class=\"dataframe\">\n",
       "  <thead>\n",
       "    <tr style=\"text-align: right;\">\n",
       "      <th></th>\n",
       "      <th>gmat</th>\n",
       "      <th>gpa</th>\n",
       "      <th>work_experience</th>\n",
       "      <th>admitted</th>\n",
       "    </tr>\n",
       "  </thead>\n",
       "  <tbody>\n",
       "    <tr>\n",
       "      <th>gmat</th>\n",
       "      <td>1.000000</td>\n",
       "      <td>0.570171</td>\n",
       "      <td>0.408743</td>\n",
       "      <td>0.606417</td>\n",
       "    </tr>\n",
       "    <tr>\n",
       "      <th>gpa</th>\n",
       "      <td>0.570171</td>\n",
       "      <td>1.000000</td>\n",
       "      <td>0.529154</td>\n",
       "      <td>0.719678</td>\n",
       "    </tr>\n",
       "    <tr>\n",
       "      <th>work_experience</th>\n",
       "      <td>0.408743</td>\n",
       "      <td>0.529154</td>\n",
       "      <td>1.000000</td>\n",
       "      <td>0.691148</td>\n",
       "    </tr>\n",
       "    <tr>\n",
       "      <th>admitted</th>\n",
       "      <td>0.606417</td>\n",
       "      <td>0.719678</td>\n",
       "      <td>0.691148</td>\n",
       "      <td>1.000000</td>\n",
       "    </tr>\n",
       "  </tbody>\n",
       "</table>\n",
       "</div>"
      ],
      "text/plain": [
       "                     gmat       gpa  work_experience  admitted\n",
       "gmat             1.000000  0.570171         0.408743  0.606417\n",
       "gpa              0.570171  1.000000         0.529154  0.719678\n",
       "work_experience  0.408743  0.529154         1.000000  0.691148\n",
       "admitted         0.606417  0.719678         0.691148  1.000000"
      ]
     },
     "execution_count": 54,
     "metadata": {},
     "output_type": "execute_result"
    }
   ],
   "source": [
    "#Correlaciones\n",
    "df.corr()"
   ]
  },
  {
   "cell_type": "code",
   "execution_count": 55,
   "id": "e78ed4ae-795d-4f59-8396-ac8f7a9cb5e0",
   "metadata": {},
   "outputs": [
    {
     "data": {
      "image/png": "[encoded data removed]",
      "text/plain": [
       "<Figure size 500x300 with 1 Axes>"
      ]
     },
     "metadata": {},
     "output_type": "display_data"
    }
   ],
   "source": [
    "#Graficas\n",
    "plt.figure(figsize=(5,3))\n",
    "plt.scatter(df[\"gpa\"],df[\"admitted\"])\n",
    "plt.grid()"
   ]
  },
  {
   "cell_type": "code",
   "execution_count": null,
   "id": "e9709bbc-6ecd-4663-9361-93226a07b86b",
   "metadata": {},
   "outputs": [],
   "source": []
  },
  {
   "cell_type": "code",
   "execution_count": null,
   "id": "1aa4cfa7-6df7-4af1-8493-89dca485d08d",
   "metadata": {},
   "outputs": [],
   "source": []
  },
  {
   "cell_type": "code",
   "execution_count": null,
   "id": "76337dd8-3a9c-44c2-8bc6-ff873c6a29c8",
   "metadata": {},
   "outputs": [],
   "source": []
  },
  {
   "cell_type": "code",
   "execution_count": null,
   "id": "4a50a11b-517d-40b6-9e46-e6ca67033e2e",
   "metadata": {},
   "outputs": [],
   "source": []
  },
  {
   "cell_type": "code",
   "execution_count": null,
   "id": "b4b4d48d-733f-409c-8cb6-b1ec5aaf1966",
   "metadata": {},
   "outputs": [],
   "source": []
  },
  {
   "cell_type": "code",
   "execution_count": null,
   "id": "449d7a87-c4ba-4221-8cb2-911ba3312836",
   "metadata": {},
   "outputs": [],
   "source": []
  },
  {
   "cell_type": "code",
   "execution_count": null,
   "id": "05d02836-47f3-4a08-8470-5320d1e5867f",
   "metadata": {},
   "outputs": [],
   "source": []
  },
  {
   "cell_type": "code",
   "execution_count": null,
   "id": "9363342e-fa6a-4a15-9e79-014c9af0ddd6",
   "metadata": {},
   "outputs": [],
   "source": []
  },
  {
   "cell_type": "code",
   "execution_count": null,
   "id": "c196cce4-345e-49fd-aaee-a22729b98452",
   "metadata": {},
   "outputs": [],
   "source": []
  },
  {
   "cell_type": "code",
   "execution_count": null,
   "id": "f3156f95-fb97-41ca-a77a-a4b686b244e5",
   "metadata": {},
   "outputs": [],
   "source": []
  },
  {
   "cell_type": "code",
   "execution_count": null,
   "id": "84743cd9-f2cc-4a32-92ce-475d0689ff21",
   "metadata": {},
   "outputs": [],
   "source": []
  },
  {
   "cell_type": "code",
   "execution_count": null,
   "id": "8e35b607-2876-4253-8dc8-d5de2554c450",
   "metadata": {},
   "outputs": [],
   "source": []
  },
  {
   "cell_type": "code",
   "execution_count": null,
   "id": "986720e8-762a-49b8-8009-59d0207a846c",
   "metadata": {},
   "outputs": [],
   "source": []
  },
  {
   "cell_type": "code",
   "execution_count": null,
   "id": "425e1499-0d28-405b-aca4-ebb24016d0d0",
   "metadata": {},
   "outputs": [],
   "source": []
  },
  {
   "cell_type": "code",
   "execution_count": 56,
   "id": "58626e08-f052-4a33-88a7-182a423c6b02",
   "metadata": {},
   "outputs": [],
   "source": [
    "# defining the dependent and independent variables\n",
    "Xtrain = df[['gmat', 'gpa', 'work_experience']]\n",
    "ytrain = df[['admitted']]"
   ]
  },
  {
   "cell_type": "code",
   "execution_count": 57,
   "id": "e4390568-7d33-481d-8da6-444d961e364d",
   "metadata": {},
   "outputs": [
    {
     "name": "stdout",
     "output_type": "stream",
     "text": [
      "Optimization terminated successfully.\n",
      "         Current function value: 0.352707\n",
      "         Iterations 8\n"
     ]
    }
   ],
   "source": [
    "# building the model and fitting the data\n",
    "log_reg = sm.Logit(ytrain, Xtrain).fit()"
   ]
  },
  {
   "cell_type": "markdown",
   "id": "7f43bd6f-f2d1-4c40-abd3-9e3607583ac7",
   "metadata": {},
   "source": [
    "## La tabla resumen :\n",
    "El siguiente cuadro sinóptico nos ofrece un resumen descriptivo de los resultados de la regresión."
   ]
  },
  {
   "cell_type": "code",
   "execution_count": 58,
   "id": "db26b7d5-fe78-403f-bfa0-50307d8c8895",
   "metadata": {},
   "outputs": [
    {
     "data": {
      "text/html": [
       "<table class=\"simpletable\">\n",
       "<caption>Logit Regression Results</caption>\n",
       "<tr>\n",
       "  <th>Dep. Variable:</th>       <td>admitted</td>     <th>  No. Observations:  </th>  <td>    30</td>  \n",
       "</tr>\n",
       "<tr>\n",
       "  <th>Model:</th>                 <td>Logit</td>      <th>  Df Residuals:      </th>  <td>    27</td>  \n",
       "</tr>\n",
       "<tr>\n",
       "  <th>Method:</th>                 <td>MLE</td>       <th>  Df Model:          </th>  <td>     2</td>  \n",
       "</tr>\n",
       "<tr>\n",
       "  <th>Date:</th>            <td>Wed, 28 Jun 2023</td> <th>  Pseudo R-squ.:     </th>  <td>0.4912</td>  \n",
       "</tr>\n",
       "<tr>\n",
       "  <th>Time:</th>                <td>19:50:11</td>     <th>  Log-Likelihood:    </th> <td> -10.581</td> \n",
       "</tr>\n",
       "<tr>\n",
       "  <th>converged:</th>             <td>True</td>       <th>  LL-Null:           </th> <td> -20.794</td> \n",
       "</tr>\n",
       "<tr>\n",
       "  <th>Covariance Type:</th>     <td>nonrobust</td>    <th>  LLR p-value:       </th> <td>3.668e-05</td>\n",
       "</tr>\n",
       "</table>\n",
       "<table class=\"simpletable\">\n",
       "<tr>\n",
       "         <td></td>            <th>coef</th>     <th>std err</th>      <th>z</th>      <th>P>|z|</th>  <th>[0.025</th>    <th>0.975]</th>  \n",
       "</tr>\n",
       "<tr>\n",
       "  <th>gmat</th>            <td>   -0.0262</td> <td>    0.011</td> <td>   -2.383</td> <td> 0.017</td> <td>   -0.048</td> <td>   -0.005</td>\n",
       "</tr>\n",
       "<tr>\n",
       "  <th>gpa</th>             <td>    3.9422</td> <td>    1.964</td> <td>    2.007</td> <td> 0.045</td> <td>    0.092</td> <td>    7.792</td>\n",
       "</tr>\n",
       "<tr>\n",
       "  <th>work_experience</th> <td>    1.1983</td> <td>    0.482</td> <td>    2.487</td> <td> 0.013</td> <td>    0.254</td> <td>    2.143</td>\n",
       "</tr>\n",
       "</table>"
      ],
      "text/latex": [
       "\\begin{center}\n",
       "\\begin{tabular}{lclc}\n",
       "\\toprule\n",
       "\\textbf{Dep. Variable:}   &     admitted     & \\textbf{  No. Observations:  } &       30    \\\\\n",
       "\\textbf{Model:}           &      Logit       & \\textbf{  Df Residuals:      } &       27    \\\\\n",
       "\\textbf{Method:}          &       MLE        & \\textbf{  Df Model:          } &        2    \\\\\n",
       "\\textbf{Date:}            & Wed, 28 Jun 2023 & \\textbf{  Pseudo R-squ.:     } &   0.4912    \\\\\n",
       "\\textbf{Time:}            &     19:50:11     & \\textbf{  Log-Likelihood:    } &   -10.581   \\\\\n",
       "\\textbf{converged:}       &       True       & \\textbf{  LL-Null:           } &   -20.794   \\\\\n",
       "\\textbf{Covariance Type:} &    nonrobust     & \\textbf{  LLR p-value:       } & 3.668e-05   \\\\\n",
       "\\bottomrule\n",
       "\\end{tabular}\n",
       "\\begin{tabular}{lcccccc}\n",
       "                          & \\textbf{coef} & \\textbf{std err} & \\textbf{z} & \\textbf{P$> |$z$|$} & \\textbf{[0.025} & \\textbf{0.975]}  \\\\\n",
       "\\midrule\n",
       "\\textbf{gmat}             &      -0.0262  &        0.011     &    -2.383  &         0.017        &       -0.048    &       -0.005     \\\\\n",
       "\\textbf{gpa}              &       3.9422  &        1.964     &     2.007  &         0.045        &        0.092    &        7.792     \\\\\n",
       "\\textbf{work\\_experience} &       1.1983  &        0.482     &     2.487  &         0.013        &        0.254    &        2.143     \\\\\n",
       "\\bottomrule\n",
       "\\end{tabular}\n",
       "%\\caption{Logit Regression Results}\n",
       "\\end{center}"
      ],
      "text/plain": [
       "<class 'statsmodels.iolib.summary.Summary'>\n",
       "\"\"\"\n",
       "                           Logit Regression Results                           \n",
       "==============================================================================\n",
       "Dep. Variable:               admitted   No. Observations:                   30\n",
       "Model:                          Logit   Df Residuals:                       27\n",
       "Method:                           MLE   Df Model:                            2\n",
       "Date:                Wed, 28 Jun 2023   Pseudo R-squ.:                  0.4912\n",
       "Time:                        19:50:11   Log-Likelihood:                -10.581\n",
       "converged:                       True   LL-Null:                       -20.794\n",
       "Covariance Type:            nonrobust   LLR p-value:                 3.668e-05\n",
       "===================================================================================\n",
       "                      coef    std err          z      P>|z|      [0.025      0.975]\n",
       "-----------------------------------------------------------------------------------\n",
       "gmat               -0.0262      0.011     -2.383      0.017      -0.048      -0.005\n",
       "gpa                 3.9422      1.964      2.007      0.045       0.092       7.792\n",
       "work_experience     1.1983      0.482      2.487      0.013       0.254       2.143\n",
       "===================================================================================\n",
       "\"\"\""
      ]
     },
     "execution_count": 58,
     "metadata": {},
     "output_type": "execute_result"
    }
   ],
   "source": [
    "# printing the summary table\n",
    "log_reg.summary()"
   ]
  },
  {
   "cell_type": "markdown",
   "id": "808f1e00-50bf-4d70-9317-e2e17131e767",
   "metadata": {},
   "source": [
    "## Modelo acá:\n",
    "$$Y \\sim A_1(GMAT)+A_2(GPA)+A_3(WORK_EXPERIENCE)$$"
   ]
  },
  {
   "cell_type": "markdown",
   "id": "cd94212b-6052-4dfd-a029-82631d041403",
   "metadata": {},
   "source": [
    "#predicción\n",
    "GMAT=600, GPA=3, WE=1"
   ]
  },
  {
   "cell_type": "code",
   "execution_count": 59,
   "id": "fddb7c29-de63-470c-940d-c705022b4b73",
   "metadata": {},
   "outputs": [
    {
     "name": "stdout",
     "output_type": "stream",
     "text": [
      "-2.6951\n"
     ]
    }
   ],
   "source": [
    "y_predi=(-0.0262*600)+(3.9422*3)+(1.1983*1)\n",
    "print(y_predi)"
   ]
  },
  {
   "cell_type": "code",
   "execution_count": 60,
   "id": "509763e2-6f99-4040-8350-33d2163342bb",
   "metadata": {},
   "outputs": [
    {
     "data": {
      "text/plain": [
       "array([0.06445861])"
      ]
     },
     "execution_count": 60,
     "metadata": {},
     "output_type": "execute_result"
    }
   ],
   "source": [
    "log_reg.predict([600,3,1])"
   ]
  },
  {
   "cell_type": "code",
   "execution_count": 61,
   "id": "759ba356-5ada-43bd-b171-b37e22a39cb7",
   "metadata": {},
   "outputs": [],
   "source": [
    "prediction=np.round(log_reg.predict(Xtrain))"
   ]
  },
  {
   "cell_type": "code",
   "execution_count": 62,
   "id": "3fd83ab7-fd7e-46ba-87bf-646c17f6a22e",
   "metadata": {},
   "outputs": [
    {
     "data": {
      "text/plain": [
       "16    1.0\n",
       "33    1.0\n",
       "8     0.0\n",
       "38    0.0\n",
       "32    1.0\n",
       "18    0.0\n",
       "6     0.0\n",
       "23    0.0\n",
       "27    0.0\n",
       "31    0.0\n",
       "3     1.0\n",
       "29    1.0\n",
       "0     0.0\n",
       "13    1.0\n",
       "4     1.0\n",
       "22    0.0\n",
       "37    0.0\n",
       "17    1.0\n",
       "20    0.0\n",
       "1     1.0\n",
       "5     1.0\n",
       "9     0.0\n",
       "24    0.0\n",
       "26    1.0\n",
       "2     0.0\n",
       "28    1.0\n",
       "25    1.0\n",
       "39    1.0\n",
       "11    1.0\n",
       "19    0.0\n",
       "dtype: float64"
      ]
     },
     "execution_count": 62,
     "metadata": {},
     "output_type": "execute_result"
    }
   ],
   "source": [
    "prediction"
   ]
  },
  {
   "cell_type": "code",
   "execution_count": 63,
   "id": "4e47792c-4603-4bf9-b5bd-0a2b4edd9824",
   "metadata": {},
   "outputs": [
    {
     "name": "stdout",
     "output_type": "stream",
     "text": [
      "Confusion Matrix : \n",
      " [[12  3]\n",
      " [ 3 12]]\n",
      "Test accuracy =  0.8\n"
     ]
    }
   ],
   "source": [
    "from sklearn.metrics import (confusion_matrix, \n",
    "                           accuracy_score)\n",
    "  \n",
    "# confusion matrix\n",
    "cm = confusion_matrix(ytrain, prediction) \n",
    "print (\"Confusion Matrix : \\n\", cm) \n",
    "  \n",
    "# accuracy score of the model\n",
    "print('Test accuracy = ', accuracy_score(ytrain, prediction))"
   ]
  },
  {
   "cell_type": "code",
   "execution_count": 64,
   "id": "75b8c5dd-fb22-4ef9-b7f3-79e6d22137eb",
   "metadata": {},
   "outputs": [
    {
     "data": {
      "image/png": "[encoded data removed]",
      "text/plain": [
       "<Figure size 640x480 with 2 Axes>"
      ]
     },
     "metadata": {},
     "output_type": "display_data"
    }
   ],
   "source": [
    "from sklearn.metrics import confusion_matrix, ConfusionMatrixDisplay\n",
    "disp = ConfusionMatrixDisplay(confusion_matrix=cm, display_labels=[0,1])\n",
    "disp.plot()\n",
    "plt.show()"
   ]
  },
  {
   "cell_type": "code",
   "execution_count": null,
   "id": "557ae66d-0800-4f3b-8aa6-92cedcc10ba6",
   "metadata": {},
   "outputs": [],
   "source": []
  },
  {
   "cell_type": "code",
   "execution_count": null,
   "id": "b06b4465-5d79-4224-b5bb-2db62b12fa41",
   "metadata": {},
   "outputs": [],
   "source": []
  },
  {
   "cell_type": "code",
   "execution_count": null,
   "id": "c7a6d25d-1d09-4f53-91fe-1630fb763ce9",
   "metadata": {},
   "outputs": [],
   "source": []
  },
  {
   "cell_type": "code",
   "execution_count": null,
   "id": "becbb9b0-ec7c-40cc-ab6a-7ebc992deab2",
   "metadata": {},
   "outputs": [],
   "source": []
  },
  {
   "cell_type": "markdown",
   "id": "700b76e8-7c5b-461b-b085-8431c687eb68",
   "metadata": {},
   "source": [
    "## Explicación de algunos términos del cuadro recapitulativo:\n",
    "\n",
    "**coef** : los coeficientes de las variables independientes en la ecuación de regresión.\n",
    "**Log-verosimilitud** : el logaritmo natural de la función de estimación de máxima verosimilitud (MLE). MLE es el proceso de optimización de encontrar el conjunto de parámetros que resultan en el mejor ajuste.\n",
    "**LL-Nulo** : el valor de la log-verosimilitud del modelo cuando no se incluye ninguna variable independiente (sólo se incluye un intercepto).\n",
    "**Pseudo R-cuadrado** : sustituto del valor R-cuadrado en la regresión lineal por mínimos cuadrados. Es la relación entre la log-verosimilitud del modelo nulo y la del modelo completo.\n",
    "\n",
    "## Predicción con nuevos datos :\n",
    "Ahora probaremos nuestro modelo con nuevos datos de prueba. Los datos de prueba se cargan desde este archivo csv.\n",
    "La función predict() es útil para realizar predicciones. Las predicciones obtenidas son valores fraccionarios (entre 0 y 1) que denotan la probabilidad de ser admitido. Estos valores se redondean para obtener los valores discretos de 1 o 0."
   ]
  },
  {
   "cell_type": "code",
   "execution_count": 31,
   "id": "99a8d3d4-dec8-415a-bcaf-f9b7f5cf9819",
   "metadata": {},
   "outputs": [
    {
     "name": "stdout",
     "output_type": "stream",
     "text": [
      "Actual values [0, 0, 0, 0, 0, 1, 1, 0, 1, 1]\n",
      "Predictions : [0, 0, 0, 0, 0, 0, 0, 0, 1, 1]\n"
     ]
    }
   ],
   "source": [
    "# loading the testing dataset  \n",
    "df = pd.read_csv('logit_test1.csv', index_col = 0)\n",
    "  \n",
    "# defining the dependent and independent variables\n",
    "Xtest = df[['gmat', 'gpa', 'work_experience']]\n",
    "ytest = df['admitted']\n",
    "  \n",
    "# performing predictions on the test dataset\n",
    "yhat = log_reg.predict(Xtest)\n",
    "prediction = list(map(round, yhat))\n",
    "  \n",
    "# comparing original and predicted values of y\n",
    "print('Actual values', list(ytest.values))\n",
    "print('Predictions :', prediction)"
   ]
  },
  {
   "cell_type": "markdown",
   "id": "5879c5bd-22e5-4ba2-bd09-645db300315d",
   "metadata": {},
   "source": [
    "Comprobación de la precisión del modelo :"
   ]
  },
  {
   "cell_type": "code",
   "execution_count": 7,
   "id": "5c8630a5-42fe-40b0-82a5-bb537889487d",
   "metadata": {},
   "outputs": [
    {
     "name": "stdout",
     "output_type": "stream",
     "text": [
      "Confusion Matrix : \n",
      " [[6 0]\n",
      " [2 2]]\n",
      "Test accuracy =  0.8\n"
     ]
    }
   ],
   "source": [
    "from sklearn.metrics import (confusion_matrix, \n",
    "                           accuracy_score)\n",
    "  \n",
    "# confusion matrix\n",
    "cm = confusion_matrix(ytest, prediction) \n",
    "print (\"Confusion Matrix : \\n\", cm) \n",
    "  \n",
    "# accuracy score of the model\n",
    "print('Test accuracy = ', accuracy_score(ytest, prediction))"
   ]
  },
  {
   "cell_type": "code",
   "execution_count": 8,
   "id": "3677ecb3-203f-43b9-9991-07760ed8a6cc",
   "metadata": {},
   "outputs": [
    {
     "data": {
      "image/png": "[encoded data removed]",
      "text/plain": [
       "<Figure size 640x480 with 2 Axes>"
      ]
     },
     "metadata": {},
     "output_type": "display_data"
    }
   ],
   "source": [
    "from sklearn.metrics import confusion_matrix, ConfusionMatrixDisplay\n",
    "disp = ConfusionMatrixDisplay(confusion_matrix=cm, display_labels=[0,1])\n",
    "disp.plot()\n",
    "plt.show()"
   ]
  },
  {
   "cell_type": "code",
   "execution_count": 9,
   "id": "25917cb1-6a87-4ae6-9020-af683715b020",
   "metadata": {},
   "outputs": [
    {
     "data": {
      "text/plain": [
       "array([0.99997831])"
      ]
     },
     "execution_count": 9,
     "metadata": {},
     "output_type": "execute_result"
    }
   ],
   "source": [
    "log_reg.predict([467,4,6])"
   ]
  },
  {
   "cell_type": "code",
   "execution_count": null,
   "id": "58bef669-feee-4915-a83d-8f30983c7674",
   "metadata": {},
   "outputs": [],
   "source": []
  },
  {
   "cell_type": "code",
   "execution_count": null,
   "id": "e23d72cd-7fe5-4503-80c1-2c862575f3fb",
   "metadata": {},
   "outputs": [],
   "source": [
    "1. Problema\n",
    "2. Datos\n",
    "3. Numeritos de la regresion\n",
    "4. Grafico real/predic, matriz de confusión"
   ]
  }
 ],
 "metadata": {
  "kernelspec": {
   "display_name": "Python 3 (ipykernel)",
   "language": "python",
   "name": "python3"
  },
  "language_info": {
   "codemirror_mode": {
    "name": "ipython",
    "version": 3
   },
   "file_extension": ".py",
   "mimetype": "text/x-python",
   "name": "python",
   "nbconvert_exporter": "python",
   "pygments_lexer": "ipython3",
   "version": "3.11.2"
  }
 },
 "nbformat": 4,
 "nbformat_minor": 5
}
