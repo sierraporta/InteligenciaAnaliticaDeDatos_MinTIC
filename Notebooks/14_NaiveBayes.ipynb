{
 "cells": [
  {
   "cell_type": "code",
   "execution_count": 1,
   "id": "f09bea32-e1c4-4268-bfbc-2af2684a916f",
   "metadata": {},
   "outputs": [],
   "source": [
    "import numpy as np"
   ]
  },
  {
   "cell_type": "markdown",
   "id": "c202ea2a-0c3a-46d4-b21f-abc3af17712b",
   "metadata": {},
   "source": [
    "# Introducción"
   ]
  },
  {
   "cell_type": "markdown",
   "id": "1a9cfcae-cf89-4dbf-ab5f-9dcd1e323492",
   "metadata": {},
   "source": [
    "## Lanzar una moneda\n",
    "\n",
    "- **Posición Bayessiana de la estadística**: Dos posibles soluciones al lanzar una monera de mil: tortuga, valor. P(tortuga)=0.5, P(valor)=0.5, P(tortuga)+P(valor)=1.\n",
    "- **Posición Frecuencias de la estadística**: "
   ]
  },
  {
   "cell_type": "code",
   "execution_count": 20,
   "id": "65b7dc03-a622-44c4-bed3-d9afc1861776",
   "metadata": {},
   "outputs": [
    {
     "name": "stdout",
     "output_type": "stream",
     "text": [
      "143360\n"
     ]
    },
    {
     "data": {
      "text/plain": [
       "(0.49986746651785713, 0.5001325334821428)"
      ]
     },
     "execution_count": 20,
     "metadata": {},
     "output_type": "execute_result"
    }
   ],
   "source": [
    "N=4480*32 #0=tortuga, 1=valor\n",
    "print(N)\n",
    "lanzamiento=np.round(np.random.random(N))\n",
    "#print(lanzamiento)\n",
    "len(lanzamiento[lanzamiento==0])/N, len(lanzamiento[lanzamiento==1])/N"
   ]
  },
  {
   "cell_type": "code",
   "execution_count": 24,
   "id": "b0977175-51c5-4869-9342-7cf90c785de0",
   "metadata": {},
   "outputs": [],
   "source": [
    "n=np.array([5,10,15,35,70,140,280,560,1120,2240,4480,8960,17920,35840,71680,143360])\n",
    "ntortuga=np.array([0.6,0.7,0.4,0.514,0.557,0.4785,0.525,0.5035,0.5258,0.5129,0.5058,0.4956,0.4982,0.5007,0.5018,0.4998])\n",
    "nvalor=[0.4,0.3,0.6,0.485,0.4428,0.5214,0.475,0.4964,0.4741,0.4870,0.4941,0.5043,0.5017,0.4992,0.4981,0.5001]"
   ]
  },
  {
   "cell_type": "code",
   "execution_count": 27,
   "id": "e170139f-5915-432b-8017-6de655a675e4",
   "metadata": {},
   "outputs": [
    {
     "data": {
      "text/plain": [
       "(16, 16)"
      ]
     },
     "execution_count": 27,
     "metadata": {},
     "output_type": "execute_result"
    }
   ],
   "source": [
    "len(n), len(ntortuga)"
   ]
  },
  {
   "cell_type": "code",
   "execution_count": 28,
   "id": "36c04782-f41a-4e73-8cc5-924b122510e9",
   "metadata": {},
   "outputs": [
    {
     "data": {
      "text/plain": [
       "[<matplotlib.lines.Line2D at 0x7f0a799e0d50>]"
      ]
     },
     "execution_count": 28,
     "metadata": {},
     "output_type": "execute_result"
    },
    {
     "data": {
      "image/png": "[encoded data removed]",
      "text/plain": [
       "<Figure size 640x480 with 1 Axes>"
      ]
     },
     "metadata": {},
     "output_type": "display_data"
    }
   ],
   "source": [
    "import matplotlib.pyplot as plt\n",
    "plt.plot(n,ntortuga)"
   ]
  },
  {
   "cell_type": "markdown",
   "id": "2f5d99c9-2e82-40fc-978c-25534616d899",
   "metadata": {},
   "source": [
    "# El algoritmo de Naive Bayes\n",
    "![](https://miro.medium.com/v2/resize:fit:720/format:webp/1*Vp4WjLi5-3lTCyXkRChCzg.jpeg)\n",
    "![](https://insightimi.files.wordpress.com/2020/04/unnamed-1.png?w=900&h=434)\n",
    "\n",
    "Supongamos que es gestor de productos y desea clasificar las opiniones de los clientes en positivas y negativas. O Como gestor de préstamos, quiere identificar qué solicitantes de préstamos son seguros o arriesgados. Como analista sanitario, quiere predecir qué pacientes pueden sufrir la enfermedad de la diabetes. Todos los ejemplos tienen el mismo tipo de problema para clasificar reseñas, solicitantes de préstamos y pacientes.\n",
    "\n",
    "Naive Bayes es el algoritmo de clasificación más sencillo y rápido, adecuado para grandes cantidades de datos. El clasificador Naive Bayes se utiliza con éxito en diversas aplicaciones, como el filtrado de spam, la clasificación de textos, el análisis de sentimientos y los sistemas de recomendación. Utiliza el teorema de Bayes de la probabilidad para la predicción de clases desconocidas."
   ]
  },
  {
   "cell_type": "markdown",
   "id": "6aa19b26-c9b5-448b-8cc6-13556143c4de",
   "metadata": {},
   "source": [
    "# Un ejemplo sencillo...\n",
    "![](https://proyectodescartes.org/escenas-aux/lg24/img/video.png)"
   ]
  },
  {
   "cell_type": "markdown",
   "id": "ef67eece-7887-4ca0-a8f0-61e3ad7334a5",
   "metadata": {},
   "source": [
    "U1=8, U2=7, U3=7, U=22, ¿cuantas urnas hay? cajas=3, P(U1)=1/3, P(A/U1)=4/8=1/2\n",
    "Voy a sacar una pelota **azul** de la caja 1 --> 1/3, probabilidad de que sea azul P(A)=7/22\n",
    "P(U1/A)=P(A/U1)*P(A)/P(U1)=1/2*7/22/(1/3)=21/44=0.4772"
   ]
  },
  {
   "cell_type": "markdown",
   "id": "d11b6a5a-7260-41eb-8eea-639d3a700370",
   "metadata": {},
   "source": [
    "# Manos a la obra..."
   ]
  },
  {
   "cell_type": "code",
   "execution_count": 29,
   "id": "9677ce8f-63e0-4509-98d6-e841c25f7f9a",
   "metadata": {},
   "outputs": [],
   "source": [
    "import numpy as np\n",
    "import pandas as pd\n",
    "import matplotlib.pyplot as plt"
   ]
  },
  {
   "cell_type": "code",
   "execution_count": 30,
   "id": "bec6576f-6225-4d2e-8caf-e450af631d1d",
   "metadata": {},
   "outputs": [],
   "source": [
    "from sklearn.naive_bayes import GaussianNB"
   ]
  },
  {
   "cell_type": "code",
   "execution_count": 31,
   "id": "7be630a8-46e5-4cfa-a4a4-a83ae7fb97c6",
   "metadata": {},
   "outputs": [],
   "source": [
    "bean=pd.read_excel(\"Dry_Bean_Dataset.xlsx\")"
   ]
  },
  {
   "cell_type": "code",
   "execution_count": 32,
   "id": "885962a8-a0c6-4cb6-92e1-26642ba4768b",
   "metadata": {},
   "outputs": [
    {
     "data": {
      "text/html": [
       "<div>\n",
       "<style scoped>\n",
       "    .dataframe tbody tr th:only-of-type {\n",
       "        vertical-align: middle;\n",
       "    }\n",
       "\n",
       "    .dataframe tbody tr th {\n",
       "        vertical-align: top;\n",
       "    }\n",
       "\n",
       "    .dataframe thead th {\n",
       "        text-align: right;\n",
       "    }\n",
       "</style>\n",
       "<table border=\"1\" class=\"dataframe\">\n",
       "  <thead>\n",
       "    <tr style=\"text-align: right;\">\n",
       "      <th></th>\n",
       "      <th>Bean ID</th>\n",
       "      <th>Area</th>\n",
       "      <th>Perimeter</th>\n",
       "      <th>MajorAxisLength</th>\n",
       "      <th>MinorAxisLength</th>\n",
       "      <th>AspectRation</th>\n",
       "      <th>Eccentricity</th>\n",
       "      <th>ConvexArea</th>\n",
       "      <th>EquivDiameter</th>\n",
       "      <th>Extent</th>\n",
       "      <th>Solidity</th>\n",
       "      <th>roundness</th>\n",
       "      <th>Compactness</th>\n",
       "      <th>ShapeFactor1</th>\n",
       "      <th>ShapeFactor2</th>\n",
       "      <th>ShapeFactor3</th>\n",
       "      <th>ShapeFactor4</th>\n",
       "      <th>Class</th>\n",
       "    </tr>\n",
       "  </thead>\n",
       "  <tbody>\n",
       "    <tr>\n",
       "      <th>0</th>\n",
       "      <td>1</td>\n",
       "      <td>28395</td>\n",
       "      <td>610.291</td>\n",
       "      <td>208.178117</td>\n",
       "      <td>173.888747</td>\n",
       "      <td>1.197191</td>\n",
       "      <td>0.549812</td>\n",
       "      <td>28715</td>\n",
       "      <td>190.141097</td>\n",
       "      <td>0.763923</td>\n",
       "      <td>0.988856</td>\n",
       "      <td>0.958027</td>\n",
       "      <td>0.913358</td>\n",
       "      <td>0.007332</td>\n",
       "      <td>0.003147</td>\n",
       "      <td>0.834222</td>\n",
       "      <td>0.998724</td>\n",
       "      <td>SEKER</td>\n",
       "    </tr>\n",
       "    <tr>\n",
       "      <th>1</th>\n",
       "      <td>2</td>\n",
       "      <td>28734</td>\n",
       "      <td>638.018</td>\n",
       "      <td>200.524796</td>\n",
       "      <td>182.734419</td>\n",
       "      <td>1.097356</td>\n",
       "      <td>0.411785</td>\n",
       "      <td>29172</td>\n",
       "      <td>191.272750</td>\n",
       "      <td>0.783968</td>\n",
       "      <td>0.984986</td>\n",
       "      <td>0.887034</td>\n",
       "      <td>0.953861</td>\n",
       "      <td>0.006979</td>\n",
       "      <td>0.003564</td>\n",
       "      <td>0.909851</td>\n",
       "      <td>0.998430</td>\n",
       "      <td>SEKER</td>\n",
       "    </tr>\n",
       "    <tr>\n",
       "      <th>2</th>\n",
       "      <td>3</td>\n",
       "      <td>29380</td>\n",
       "      <td>624.110</td>\n",
       "      <td>212.826130</td>\n",
       "      <td>175.931143</td>\n",
       "      <td>1.209713</td>\n",
       "      <td>0.562727</td>\n",
       "      <td>29690</td>\n",
       "      <td>193.410904</td>\n",
       "      <td>0.778113</td>\n",
       "      <td>0.989559</td>\n",
       "      <td>0.947849</td>\n",
       "      <td>0.908774</td>\n",
       "      <td>0.007244</td>\n",
       "      <td>0.003048</td>\n",
       "      <td>0.825871</td>\n",
       "      <td>0.999066</td>\n",
       "      <td>SEKER</td>\n",
       "    </tr>\n",
       "    <tr>\n",
       "      <th>3</th>\n",
       "      <td>4</td>\n",
       "      <td>30008</td>\n",
       "      <td>645.884</td>\n",
       "      <td>210.557999</td>\n",
       "      <td>182.516516</td>\n",
       "      <td>1.153638</td>\n",
       "      <td>0.498616</td>\n",
       "      <td>30724</td>\n",
       "      <td>195.467062</td>\n",
       "      <td>0.782681</td>\n",
       "      <td>0.976696</td>\n",
       "      <td>0.903936</td>\n",
       "      <td>0.928329</td>\n",
       "      <td>0.007017</td>\n",
       "      <td>0.003215</td>\n",
       "      <td>0.861794</td>\n",
       "      <td>0.994199</td>\n",
       "      <td>SEKER</td>\n",
       "    </tr>\n",
       "    <tr>\n",
       "      <th>4</th>\n",
       "      <td>5</td>\n",
       "      <td>30140</td>\n",
       "      <td>620.134</td>\n",
       "      <td>201.847882</td>\n",
       "      <td>190.279279</td>\n",
       "      <td>1.060798</td>\n",
       "      <td>0.333680</td>\n",
       "      <td>30417</td>\n",
       "      <td>195.896503</td>\n",
       "      <td>0.773098</td>\n",
       "      <td>0.990893</td>\n",
       "      <td>0.984877</td>\n",
       "      <td>0.970516</td>\n",
       "      <td>0.006697</td>\n",
       "      <td>0.003665</td>\n",
       "      <td>0.941900</td>\n",
       "      <td>0.999166</td>\n",
       "      <td>SEKER</td>\n",
       "    </tr>\n",
       "    <tr>\n",
       "      <th>...</th>\n",
       "      <td>...</td>\n",
       "      <td>...</td>\n",
       "      <td>...</td>\n",
       "      <td>...</td>\n",
       "      <td>...</td>\n",
       "      <td>...</td>\n",
       "      <td>...</td>\n",
       "      <td>...</td>\n",
       "      <td>...</td>\n",
       "      <td>...</td>\n",
       "      <td>...</td>\n",
       "      <td>...</td>\n",
       "      <td>...</td>\n",
       "      <td>...</td>\n",
       "      <td>...</td>\n",
       "      <td>...</td>\n",
       "      <td>...</td>\n",
       "      <td>...</td>\n",
       "    </tr>\n",
       "    <tr>\n",
       "      <th>13606</th>\n",
       "      <td>13607</td>\n",
       "      <td>42097</td>\n",
       "      <td>759.696</td>\n",
       "      <td>288.721612</td>\n",
       "      <td>185.944705</td>\n",
       "      <td>1.552728</td>\n",
       "      <td>0.765002</td>\n",
       "      <td>42508</td>\n",
       "      <td>231.515799</td>\n",
       "      <td>0.714574</td>\n",
       "      <td>0.990331</td>\n",
       "      <td>0.916603</td>\n",
       "      <td>0.801865</td>\n",
       "      <td>0.006858</td>\n",
       "      <td>0.001749</td>\n",
       "      <td>0.642988</td>\n",
       "      <td>0.998385</td>\n",
       "      <td>DERMASON</td>\n",
       "    </tr>\n",
       "    <tr>\n",
       "      <th>13607</th>\n",
       "      <td>13608</td>\n",
       "      <td>42101</td>\n",
       "      <td>757.499</td>\n",
       "      <td>281.576392</td>\n",
       "      <td>190.713136</td>\n",
       "      <td>1.476439</td>\n",
       "      <td>0.735702</td>\n",
       "      <td>42494</td>\n",
       "      <td>231.526798</td>\n",
       "      <td>0.799943</td>\n",
       "      <td>0.990752</td>\n",
       "      <td>0.922015</td>\n",
       "      <td>0.822252</td>\n",
       "      <td>0.006688</td>\n",
       "      <td>0.001886</td>\n",
       "      <td>0.676099</td>\n",
       "      <td>0.998219</td>\n",
       "      <td>DERMASON</td>\n",
       "    </tr>\n",
       "    <tr>\n",
       "      <th>13608</th>\n",
       "      <td>13609</td>\n",
       "      <td>42139</td>\n",
       "      <td>759.321</td>\n",
       "      <td>281.539928</td>\n",
       "      <td>191.187979</td>\n",
       "      <td>1.472582</td>\n",
       "      <td>0.734065</td>\n",
       "      <td>42569</td>\n",
       "      <td>231.631261</td>\n",
       "      <td>0.729932</td>\n",
       "      <td>0.989899</td>\n",
       "      <td>0.918424</td>\n",
       "      <td>0.822730</td>\n",
       "      <td>0.006681</td>\n",
       "      <td>0.001888</td>\n",
       "      <td>0.676884</td>\n",
       "      <td>0.996767</td>\n",
       "      <td>DERMASON</td>\n",
       "    </tr>\n",
       "    <tr>\n",
       "      <th>13609</th>\n",
       "      <td>13610</td>\n",
       "      <td>42147</td>\n",
       "      <td>763.779</td>\n",
       "      <td>283.382636</td>\n",
       "      <td>190.275731</td>\n",
       "      <td>1.489326</td>\n",
       "      <td>0.741055</td>\n",
       "      <td>42667</td>\n",
       "      <td>231.653248</td>\n",
       "      <td>0.705389</td>\n",
       "      <td>0.987813</td>\n",
       "      <td>0.907906</td>\n",
       "      <td>0.817457</td>\n",
       "      <td>0.006724</td>\n",
       "      <td>0.001852</td>\n",
       "      <td>0.668237</td>\n",
       "      <td>0.995222</td>\n",
       "      <td>DERMASON</td>\n",
       "    </tr>\n",
       "    <tr>\n",
       "      <th>13610</th>\n",
       "      <td>13611</td>\n",
       "      <td>42159</td>\n",
       "      <td>772.237</td>\n",
       "      <td>295.142741</td>\n",
       "      <td>182.204716</td>\n",
       "      <td>1.619841</td>\n",
       "      <td>0.786693</td>\n",
       "      <td>42600</td>\n",
       "      <td>231.686223</td>\n",
       "      <td>0.788962</td>\n",
       "      <td>0.989648</td>\n",
       "      <td>0.888380</td>\n",
       "      <td>0.784997</td>\n",
       "      <td>0.007001</td>\n",
       "      <td>0.001640</td>\n",
       "      <td>0.616221</td>\n",
       "      <td>0.998180</td>\n",
       "      <td>DERMASON</td>\n",
       "    </tr>\n",
       "  </tbody>\n",
       "</table>\n",
       "<p>13611 rows × 18 columns</p>\n",
       "</div>"
      ],
      "text/plain": [
       "       Bean ID   Area  Perimeter  MajorAxisLength  MinorAxisLength   \n",
       "0            1  28395    610.291       208.178117       173.888747  \\\n",
       "1            2  28734    638.018       200.524796       182.734419   \n",
       "2            3  29380    624.110       212.826130       175.931143   \n",
       "3            4  30008    645.884       210.557999       182.516516   \n",
       "4            5  30140    620.134       201.847882       190.279279   \n",
       "...        ...    ...        ...              ...              ...   \n",
       "13606    13607  42097    759.696       288.721612       185.944705   \n",
       "13607    13608  42101    757.499       281.576392       190.713136   \n",
       "13608    13609  42139    759.321       281.539928       191.187979   \n",
       "13609    13610  42147    763.779       283.382636       190.275731   \n",
       "13610    13611  42159    772.237       295.142741       182.204716   \n",
       "\n",
       "       AspectRation  Eccentricity  ConvexArea  EquivDiameter    Extent   \n",
       "0          1.197191      0.549812       28715     190.141097  0.763923  \\\n",
       "1          1.097356      0.411785       29172     191.272750  0.783968   \n",
       "2          1.209713      0.562727       29690     193.410904  0.778113   \n",
       "3          1.153638      0.498616       30724     195.467062  0.782681   \n",
       "4          1.060798      0.333680       30417     195.896503  0.773098   \n",
       "...             ...           ...         ...            ...       ...   \n",
       "13606      1.552728      0.765002       42508     231.515799  0.714574   \n",
       "13607      1.476439      0.735702       42494     231.526798  0.799943   \n",
       "13608      1.472582      0.734065       42569     231.631261  0.729932   \n",
       "13609      1.489326      0.741055       42667     231.653248  0.705389   \n",
       "13610      1.619841      0.786693       42600     231.686223  0.788962   \n",
       "\n",
       "       Solidity  roundness  Compactness  ShapeFactor1  ShapeFactor2   \n",
       "0      0.988856   0.958027     0.913358      0.007332      0.003147  \\\n",
       "1      0.984986   0.887034     0.953861      0.006979      0.003564   \n",
       "2      0.989559   0.947849     0.908774      0.007244      0.003048   \n",
       "3      0.976696   0.903936     0.928329      0.007017      0.003215   \n",
       "4      0.990893   0.984877     0.970516      0.006697      0.003665   \n",
       "...         ...        ...          ...           ...           ...   \n",
       "13606  0.990331   0.916603     0.801865      0.006858      0.001749   \n",
       "13607  0.990752   0.922015     0.822252      0.006688      0.001886   \n",
       "13608  0.989899   0.918424     0.822730      0.006681      0.001888   \n",
       "13609  0.987813   0.907906     0.817457      0.006724      0.001852   \n",
       "13610  0.989648   0.888380     0.784997      0.007001      0.001640   \n",
       "\n",
       "       ShapeFactor3  ShapeFactor4     Class  \n",
       "0          0.834222      0.998724     SEKER  \n",
       "1          0.909851      0.998430     SEKER  \n",
       "2          0.825871      0.999066     SEKER  \n",
       "3          0.861794      0.994199     SEKER  \n",
       "4          0.941900      0.999166     SEKER  \n",
       "...             ...           ...       ...  \n",
       "13606      0.642988      0.998385  DERMASON  \n",
       "13607      0.676099      0.998219  DERMASON  \n",
       "13608      0.676884      0.996767  DERMASON  \n",
       "13609      0.668237      0.995222  DERMASON  \n",
       "13610      0.616221      0.998180  DERMASON  \n",
       "\n",
       "[13611 rows x 18 columns]"
      ]
     },
     "execution_count": 32,
     "metadata": {},
     "output_type": "execute_result"
    }
   ],
   "source": [
    "bean"
   ]
  },
  {
   "cell_type": "code",
   "execution_count": 34,
   "id": "d9cac6f6-c12a-435c-8f96-016d13792c4a",
   "metadata": {},
   "outputs": [
    {
     "data": {
      "text/plain": [
       "Class\n",
       "DERMASON    0.260525\n",
       "SIRA        0.193667\n",
       "SEKER       0.148924\n",
       "HOROZ       0.141650\n",
       "CALI        0.119756\n",
       "BARBUNYA    0.097127\n",
       "BOMBAY      0.038351\n",
       "Name: count, dtype: float64"
      ]
     },
     "execution_count": 34,
     "metadata": {},
     "output_type": "execute_result"
    }
   ],
   "source": [
    "bean[\"Class\"].value_counts()/len(bean)"
   ]
  },
  {
   "cell_type": "code",
   "execution_count": null,
   "id": "3417e2a2-3c06-49f3-8196-21ea530b902d",
   "metadata": {},
   "outputs": [],
   "source": []
  },
  {
   "cell_type": "code",
   "execution_count": null,
   "id": "e7c29b83-eff5-46ca-9283-24db22611afe",
   "metadata": {},
   "outputs": [],
   "source": [
    "## Metodología\n",
    "## 1. Datos. Data mining..\n",
    "## 2. Dividir el conjunto de datos: X (independientes), y (dependiente(s))\n",
    "## 3. Dividir; entrenamiento y prueba (0.25, 0.30, 0.35)\n",
    "## 4. Defino el modelo (¿Cual es el modelo que voy a aplicar?)\n",
    "## 5. Cargar el modelo --> El modelo viene por defecto vacío!!!!!!!\n",
    "## 6. Aplicar el modelo --> Entreno el modelo --> Usar los datos de entrenamiento\n",
    "## 7. Testear, predicción, los prueba con los datos de prueba"
   ]
  },
  {
   "cell_type": "code",
   "execution_count": null,
   "id": "aa31e461-9870-407b-b5f1-62deb1513062",
   "metadata": {},
   "outputs": [],
   "source": []
  },
  {
   "cell_type": "code",
   "execution_count": null,
   "id": "1eacd963-315a-4623-8e92-babc2034b4f3",
   "metadata": {},
   "outputs": [],
   "source": []
  },
  {
   "cell_type": "code",
   "execution_count": null,
   "id": "6f6742c0-e954-47eb-b0fd-f077944be5bb",
   "metadata": {},
   "outputs": [],
   "source": []
  },
  {
   "cell_type": "code",
   "execution_count": 5,
   "id": "17789881-293e-40f9-8abe-11bf66d52da9",
   "metadata": {},
   "outputs": [],
   "source": [
    "X=bean.drop(columns=[\"Bean ID\",\"Class\"])\n",
    "y1=bean[\"Class\"]"
   ]
  },
  {
   "cell_type": "code",
   "execution_count": 6,
   "id": "3f47144e-5240-4bc3-a64b-1ae2cea10a99",
   "metadata": {},
   "outputs": [
    {
     "data": {
      "text/plain": [
       "0           SEKER\n",
       "1           SEKER\n",
       "2           SEKER\n",
       "3           SEKER\n",
       "4           SEKER\n",
       "           ...   \n",
       "13606    DERMASON\n",
       "13607    DERMASON\n",
       "13608    DERMASON\n",
       "13609    DERMASON\n",
       "13610    DERMASON\n",
       "Name: Class, Length: 13611, dtype: object"
      ]
     },
     "execution_count": 6,
     "metadata": {},
     "output_type": "execute_result"
    }
   ],
   "source": [
    "y1"
   ]
  },
  {
   "cell_type": "code",
   "execution_count": 7,
   "id": "0c7e1af5-4a49-4cd6-b75f-3327db151b09",
   "metadata": {},
   "outputs": [
    {
     "data": {
      "text/plain": [
       "Class\n",
       "DERMASON    3546\n",
       "SIRA        2636\n",
       "SEKER       2027\n",
       "HOROZ       1928\n",
       "CALI        1630\n",
       "BARBUNYA    1322\n",
       "BOMBAY       522\n",
       "Name: count, dtype: int64"
      ]
     },
     "execution_count": 7,
     "metadata": {},
     "output_type": "execute_result"
    }
   ],
   "source": [
    "y1.value_counts()"
   ]
  },
  {
   "cell_type": "code",
   "execution_count": 8,
   "id": "ca3366be-f047-4168-84c9-73e1ecd1203a",
   "metadata": {},
   "outputs": [],
   "source": [
    "from sklearn.model_selection import train_test_split"
   ]
  },
  {
   "cell_type": "code",
   "execution_count": 9,
   "id": "0703df2b-573d-48cf-8f59-4c77513c36c1",
   "metadata": {},
   "outputs": [],
   "source": [
    "X1_train, X1_test, y1_train, y1_test = train_test_split(X, y1, test_size = 0.15, random_state=6748)"
   ]
  },
  {
   "cell_type": "markdown",
   "id": "2082b8ec-50c5-41d0-99b5-9c58d1e2a289",
   "metadata": {},
   "source": [
    "## Vamos a tratarlo como un problema de clasificación.."
   ]
  },
  {
   "cell_type": "code",
   "execution_count": 10,
   "id": "fff9723c-9941-445e-bec2-31ec5ea6bd7d",
   "metadata": {},
   "outputs": [
    {
     "name": "stdout",
     "output_type": "stream",
     "text": [
      "Actual Value: 1950       SEKER\n",
      "3105    BARBUNYA\n",
      "2647    BARBUNYA\n",
      "783        SEKER\n",
      "6749       HOROZ\n",
      "          ...   \n",
      "2004       SEKER\n",
      "8431        SIRA\n",
      "8686        SIRA\n",
      "7590        SIRA\n",
      "3435      BOMBAY\n",
      "Name: Class, Length: 2042, dtype: object\n",
      "Predicted Value: ['SIRA' 'CALI' 'BARBUNYA' ... 'SIRA' 'SEKER' 'BOMBAY']\n"
     ]
    }
   ],
   "source": [
    "# Build a Gaussian Classifier\n",
    "model = GaussianNB()\n",
    "\n",
    "# Model training\n",
    "model.fit(X1_train, y1_train)\n",
    "\n",
    "# Predict Output\n",
    "predicted = model.predict(X1_test)\n",
    "\n",
    "print(\"Actual Value:\", y1_test)\n",
    "print(\"Predicted Value:\", predicted)"
   ]
  },
  {
   "cell_type": "code",
   "execution_count": 11,
   "id": "d0ab8c96-503f-41d9-9670-1014e03366b1",
   "metadata": {},
   "outputs": [
    {
     "name": "stdout",
     "output_type": "stream",
     "text": [
      "Accuracy: 0.7492654260528894\n",
      "F1 Score: 0.7514416340729629\n"
     ]
    }
   ],
   "source": [
    "from sklearn.metrics import (\n",
    "    accuracy_score,\n",
    "    confusion_matrix,\n",
    "    ConfusionMatrixDisplay,\n",
    "    f1_score,\n",
    ")\n",
    "\n",
    "y1_pred = model.predict(X1_test)\n",
    "accuray = accuracy_score(y1_pred, y1_test)\n",
    "f1 = f1_score(y1_pred, y1_test, average=\"weighted\")\n",
    "\n",
    "print(\"Accuracy:\", accuray)\n",
    "print(\"F1 Score:\", f1)"
   ]
  },
  {
   "cell_type": "code",
   "execution_count": 12,
   "id": "f5d2b639-5b6b-406e-a66a-e328ce7657fe",
   "metadata": {},
   "outputs": [
    {
     "data": {
      "image/png": "[encoded data removed]",
      "text/plain": [
       "<Figure size 640x480 with 2 Axes>"
      ]
     },
     "metadata": {},
     "output_type": "display_data"
    }
   ],
   "source": [
    "cm=confusion_matrix(y1_test, y1_pred, labels=model.classes_)/confusion_matrix(y1_test, y1_pred, labels=model.classes_).sum(axis=1)*100\n",
    "ConfusionMatrixDisplay(confusion_matrix=cm,display_labels=model.classes_).plot()\n",
    "plt.xticks(rotation=30,ha=\"right\")\n",
    "plt.show()"
   ]
  },
  {
   "cell_type": "code",
   "execution_count": null,
   "id": "55a819a2-e4a5-48f9-9a68-c37166b9bc09",
   "metadata": {},
   "outputs": [],
   "source": []
  }
 ],
 "metadata": {
  "kernelspec": {
   "display_name": "Python 3 (ipykernel)",
   "language": "python",
   "name": "python3"
  },
  "language_info": {
   "codemirror_mode": {
    "name": "ipython",
    "version": 3
   },
   "file_extension": ".py",
   "mimetype": "text/x-python",
   "name": "python",
   "nbconvert_exporter": "python",
   "pygments_lexer": "ipython3",
   "version": "3.11.2"
  }
 },
 "nbformat": 4,
 "nbformat_minor": 5
}
